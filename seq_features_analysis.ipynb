{
 "cells": [
  {
   "cell_type": "code",
   "execution_count": 1,
   "metadata": {},
   "outputs": [],
   "source": [
    "import dataset as ds\n",
    "import numpy as np\n",
    "import pandas as pd\n",
    "import lightgbm as lgb\n",
    "import matplotlib.pyplot as plt\n",
    "import seaborn as sns\n",
    "from sklearn.model_selection import KFold\n",
    "from sklearn.metrics import roc_auc_score"
   ]
  },
  {
   "cell_type": "markdown",
   "metadata": {},
   "source": [
    "### We select the cutoff for the \"time since root tweet\" limit in fetching tree data"
   ]
  },
  {
   "cell_type": "code",
   "execution_count": 2,
   "metadata": {},
   "outputs": [],
   "source": [
    "CUTOFF = 1000"
   ]
  },
  {
   "cell_type": "code",
   "execution_count": 3,
   "metadata": {},
   "outputs": [
    {
     "name": "stdout",
     "output_type": "stream",
     "text": [
      "Considering only binary classification problem\n",
      "We consider tweets emitted no later than 1000mins after the root tweet\n",
      "Len train/val/test 500 75 167\n",
      "[1.5722e+04 1.6380e+03 1.3100e+02 5.9900e+02 0.0000e+00 1.0000e+00\n",
      " 1.3000e+01 1.3000e+01 3.0000e+00 4.9040e+03 0.0000e+00]\n",
      "[1.5722e+04 1.6380e+03 1.3100e+02 5.9900e+02 0.0000e+00 1.0000e+00\n",
      " 1.3000e+01 1.3000e+01 3.0000e+00 4.9040e+03 0.0000e+00]\n",
      "[1.5722e+04 1.6380e+03 1.3100e+02 5.9900e+02 0.0000e+00 1.0000e+00\n",
      " 1.3000e+01 1.3000e+01 3.0000e+00 4.9040e+03 0.0000e+00]\n",
      "[1.5722e+04 1.6380e+03 1.3100e+02 5.9900e+02 0.0000e+00 1.0000e+00\n",
      " 1.3000e+01 1.3000e+01 3.0000e+00 4.9040e+03 0.0000e+00]\n",
      "Dataset loaded in 10.887s\n"
     ]
    }
   ],
   "source": [
    "data_builder = ds.DatasetBuilder(\"twitter15\", time_cutoff=CUTOFF)\n",
    "dataset = data_builder.create_dataset(dataset_type=\"raw\", standardize_features=False)"
   ]
  },
  {
   "cell_type": "code",
   "execution_count": 4,
   "metadata": {},
   "outputs": [],
   "source": [
    "raw_train = dataset['train']\n",
    "raw_validate = dataset['val']"
   ]
  },
  {
   "cell_type": "code",
   "execution_count": 5,
   "metadata": {},
   "outputs": [
    {
     "data": {
      "text/plain": [
       "500"
      ]
     },
     "execution_count": 5,
     "metadata": {},
     "output_type": "execute_result"
    }
   ],
   "source": [
    "len(raw_train)"
   ]
  },
  {
   "cell_type": "code",
   "execution_count": 6,
   "metadata": {},
   "outputs": [
    {
     "data": {
      "text/plain": [
       "['true',\n",
       " 509463933564891137,\n",
       " 0,\n",
       " 1,\n",
       " 0.35,\n",
       " 13461662,\n",
       " 59897849,\n",
       " 14449.0,\n",
       " 8816.0,\n",
       " 488.0,\n",
       " 1372.0,\n",
       " 0.0,\n",
       " 1.0,\n",
       " 13.0,\n",
       " 9.0,\n",
       " 38.0,\n",
       " 11508.0,\n",
       " 0.0]"
      ]
     },
     "execution_count": 6,
     "metadata": {},
     "output_type": "execute_result"
    }
   ],
   "source": [
    "raw_train[0][0]"
   ]
  },
  {
   "cell_type": "code",
   "execution_count": 7,
   "metadata": {},
   "outputs": [
    {
     "data": {
      "text/plain": [
       "18"
      ]
     },
     "execution_count": 7,
     "metadata": {},
     "output_type": "execute_result"
    }
   ],
   "source": [
    "edge_feature_names = [\"created_at\",\n",
    "                    \"favourites_count\", \n",
    "                    \"followers_count\", \n",
    "                    \"friends_count\", \n",
    "                    \"geo_enabled\",\n",
    "                    \"has_description\",\n",
    "                    \"len_name\",\n",
    "                    \"len_screen_name\",\n",
    "                    \"listed_count\",\n",
    "                    \"statuses_count\", \n",
    "                    \"verified\"\n",
    "                     ]\n",
    "edge_feature_names = sorted(edge_feature_names)\n",
    "edge_feature_names = [\"label\",\n",
    "                      \"root_id\",\n",
    "                      \"in_tweet_idx\",\n",
    "                      \"out_tweet_idx\",\n",
    "                      \"latency\",\n",
    "                      \"in_uid\",\n",
    "                      \"out_uid\"] + edge_feature_names\n",
    "n_cols = len(edge_feature_names)\n",
    "n_cols"
   ]
  },
  {
   "cell_type": "code",
   "execution_count": 8,
   "metadata": {},
   "outputs": [
    {
     "data": {
      "text/plain": [
       "['label',\n",
       " 'root_id',\n",
       " 'in_tweet_idx',\n",
       " 'out_tweet_idx',\n",
       " 'latency',\n",
       " 'in_uid',\n",
       " 'out_uid',\n",
       " 'created_at',\n",
       " 'favourites_count',\n",
       " 'followers_count',\n",
       " 'friends_count',\n",
       " 'geo_enabled',\n",
       " 'has_description',\n",
       " 'len_name',\n",
       " 'len_screen_name',\n",
       " 'listed_count',\n",
       " 'statuses_count',\n",
       " 'verified']"
      ]
     },
     "execution_count": 8,
     "metadata": {},
     "output_type": "execute_result"
    }
   ],
   "source": [
    "edge_feature_names"
   ]
  },
  {
   "cell_type": "markdown",
   "metadata": {},
   "source": [
    "### We set the prediction latency level for our model: X minutes means our model classifies using features available X minutes after the root tweet is emitted "
   ]
  },
  {
   "cell_type": "code",
   "execution_count": 9,
   "metadata": {},
   "outputs": [],
   "source": [
    "PREDICTION_LATENCY = 350 # in minutes after the first tweet is emitted"
   ]
  },
  {
   "cell_type": "code",
   "execution_count": 12,
   "metadata": {},
   "outputs": [],
   "source": [
    "def get_df_from_raw(raw_data):\n",
    "    data_dict = {name:[] for name in edge_feature_names}\n",
    "    for features_sequence in raw_data:\n",
    "        for dp in features_sequence:\n",
    "            for i in range(n_cols):\n",
    "                data_dict[edge_feature_names[i]].append(dp[i])\n",
    "    df = pd.DataFrame(data=data_dict)\n",
    "    df.label = df.label.apply(lambda x: 1.0 if x=='true' else 0.)\n",
    "    return df"
   ]
  },
  {
   "cell_type": "code",
   "execution_count": 13,
   "metadata": {},
   "outputs": [],
   "source": [
    "df_train = get_df_from_raw(raw_train)\n",
    "df_validate = get_df_from_raw(raw_validate)"
   ]
  },
  {
   "cell_type": "code",
   "execution_count": 14,
   "metadata": {},
   "outputs": [
    {
     "data": {
      "text/html": [
       "<div>\n",
       "<style scoped>\n",
       "    .dataframe tbody tr th:only-of-type {\n",
       "        vertical-align: middle;\n",
       "    }\n",
       "\n",
       "    .dataframe tbody tr th {\n",
       "        vertical-align: top;\n",
       "    }\n",
       "\n",
       "    .dataframe thead th {\n",
       "        text-align: right;\n",
       "    }\n",
       "</style>\n",
       "<table border=\"1\" class=\"dataframe\">\n",
       "  <thead>\n",
       "    <tr style=\"text-align: right;\">\n",
       "      <th></th>\n",
       "      <th>label</th>\n",
       "      <th>root_id</th>\n",
       "      <th>in_tweet_idx</th>\n",
       "      <th>out_tweet_idx</th>\n",
       "      <th>latency</th>\n",
       "      <th>in_uid</th>\n",
       "      <th>out_uid</th>\n",
       "      <th>created_at</th>\n",
       "      <th>favourites_count</th>\n",
       "      <th>followers_count</th>\n",
       "      <th>friends_count</th>\n",
       "      <th>geo_enabled</th>\n",
       "      <th>has_description</th>\n",
       "      <th>len_name</th>\n",
       "      <th>len_screen_name</th>\n",
       "      <th>listed_count</th>\n",
       "      <th>statuses_count</th>\n",
       "      <th>verified</th>\n",
       "    </tr>\n",
       "  </thead>\n",
       "  <tbody>\n",
       "    <tr>\n",
       "      <td>0</td>\n",
       "      <td>1.0</td>\n",
       "      <td>509463933564891137</td>\n",
       "      <td>0</td>\n",
       "      <td>1</td>\n",
       "      <td>0.35</td>\n",
       "      <td>13461662</td>\n",
       "      <td>59897849</td>\n",
       "      <td>14449.0</td>\n",
       "      <td>8816.0</td>\n",
       "      <td>488.0</td>\n",
       "      <td>1372.0</td>\n",
       "      <td>0.0</td>\n",
       "      <td>1.0</td>\n",
       "      <td>13.0</td>\n",
       "      <td>9.0</td>\n",
       "      <td>38.0</td>\n",
       "      <td>11508.0</td>\n",
       "      <td>0.0</td>\n",
       "    </tr>\n",
       "    <tr>\n",
       "      <td>1</td>\n",
       "      <td>1.0</td>\n",
       "      <td>509463933564891137</td>\n",
       "      <td>0</td>\n",
       "      <td>2</td>\n",
       "      <td>0.60</td>\n",
       "      <td>13461662</td>\n",
       "      <td>24253448</td>\n",
       "      <td>14316.0</td>\n",
       "      <td>1504.0</td>\n",
       "      <td>522.0</td>\n",
       "      <td>559.0</td>\n",
       "      <td>0.0</td>\n",
       "      <td>1.0</td>\n",
       "      <td>11.0</td>\n",
       "      <td>5.0</td>\n",
       "      <td>25.0</td>\n",
       "      <td>34455.0</td>\n",
       "      <td>0.0</td>\n",
       "    </tr>\n",
       "    <tr>\n",
       "      <td>2</td>\n",
       "      <td>1.0</td>\n",
       "      <td>509463933564891137</td>\n",
       "      <td>0</td>\n",
       "      <td>3</td>\n",
       "      <td>0.62</td>\n",
       "      <td>13461662</td>\n",
       "      <td>23700297</td>\n",
       "      <td>14314.0</td>\n",
       "      <td>10955.0</td>\n",
       "      <td>814.0</td>\n",
       "      <td>626.0</td>\n",
       "      <td>1.0</td>\n",
       "      <td>1.0</td>\n",
       "      <td>18.0</td>\n",
       "      <td>14.0</td>\n",
       "      <td>80.0</td>\n",
       "      <td>20996.0</td>\n",
       "      <td>0.0</td>\n",
       "    </tr>\n",
       "    <tr>\n",
       "      <td>3</td>\n",
       "      <td>1.0</td>\n",
       "      <td>509463933564891137</td>\n",
       "      <td>0</td>\n",
       "      <td>4</td>\n",
       "      <td>0.70</td>\n",
       "      <td>13461662</td>\n",
       "      <td>14631962</td>\n",
       "      <td>14001.0</td>\n",
       "      <td>45441.0</td>\n",
       "      <td>320.0</td>\n",
       "      <td>577.0</td>\n",
       "      <td>0.0</td>\n",
       "      <td>1.0</td>\n",
       "      <td>15.0</td>\n",
       "      <td>5.0</td>\n",
       "      <td>5.0</td>\n",
       "      <td>56195.0</td>\n",
       "      <td>0.0</td>\n",
       "    </tr>\n",
       "    <tr>\n",
       "      <td>4</td>\n",
       "      <td>1.0</td>\n",
       "      <td>509463933564891137</td>\n",
       "      <td>0</td>\n",
       "      <td>5</td>\n",
       "      <td>0.87</td>\n",
       "      <td>13461662</td>\n",
       "      <td>50256333</td>\n",
       "      <td>14419.0</td>\n",
       "      <td>4380.0</td>\n",
       "      <td>1844.0</td>\n",
       "      <td>2266.0</td>\n",
       "      <td>1.0</td>\n",
       "      <td>1.0</td>\n",
       "      <td>12.0</td>\n",
       "      <td>11.0</td>\n",
       "      <td>49.0</td>\n",
       "      <td>14422.0</td>\n",
       "      <td>0.0</td>\n",
       "    </tr>\n",
       "  </tbody>\n",
       "</table>\n",
       "</div>"
      ],
      "text/plain": [
       "   label             root_id  in_tweet_idx  out_tweet_idx  latency    in_uid  \\\n",
       "0    1.0  509463933564891137             0              1     0.35  13461662   \n",
       "1    1.0  509463933564891137             0              2     0.60  13461662   \n",
       "2    1.0  509463933564891137             0              3     0.62  13461662   \n",
       "3    1.0  509463933564891137             0              4     0.70  13461662   \n",
       "4    1.0  509463933564891137             0              5     0.87  13461662   \n",
       "\n",
       "    out_uid  created_at  favourites_count  followers_count  friends_count  \\\n",
       "0  59897849     14449.0            8816.0            488.0         1372.0   \n",
       "1  24253448     14316.0            1504.0            522.0          559.0   \n",
       "2  23700297     14314.0           10955.0            814.0          626.0   \n",
       "3  14631962     14001.0           45441.0            320.0          577.0   \n",
       "4  50256333     14419.0            4380.0           1844.0         2266.0   \n",
       "\n",
       "   geo_enabled  has_description  len_name  len_screen_name  listed_count  \\\n",
       "0          0.0              1.0      13.0              9.0          38.0   \n",
       "1          0.0              1.0      11.0              5.0          25.0   \n",
       "2          1.0              1.0      18.0             14.0          80.0   \n",
       "3          0.0              1.0      15.0              5.0           5.0   \n",
       "4          1.0              1.0      12.0             11.0          49.0   \n",
       "\n",
       "   statuses_count  verified  \n",
       "0         11508.0       0.0  \n",
       "1         34455.0       0.0  \n",
       "2         20996.0       0.0  \n",
       "3         56195.0       0.0  \n",
       "4         14422.0       0.0  "
      ]
     },
     "execution_count": 14,
     "metadata": {},
     "output_type": "execute_result"
    }
   ],
   "source": [
    "df_train.head()"
   ]
  },
  {
   "cell_type": "code",
   "execution_count": 15,
   "metadata": {},
   "outputs": [
    {
     "data": {
      "text/plain": [
       "1953"
      ]
     },
     "execution_count": 15,
     "metadata": {},
     "output_type": "execute_result"
    }
   ],
   "source": [
    "len(df_train.in_tweet_idx.unique())"
   ]
  },
  {
   "cell_type": "code",
   "execution_count": 25,
   "metadata": {},
   "outputs": [
    {
     "data": {
      "text/plain": [
       "array([1])"
      ]
     },
     "execution_count": 25,
     "metadata": {},
     "output_type": "execute_result"
    }
   ],
   "source": [
    "df_test = df_train.groupby(['out_uid']).nunique().loc[:, ['label', 'favourites_count']]\n",
    "df_test.favourites_count.unique()"
   ]
  },
  {
   "cell_type": "markdown",
   "metadata": {},
   "source": [
    "### Some univariate plots"
   ]
  },
  {
   "cell_type": "code",
   "execution_count": 26,
   "metadata": {},
   "outputs": [],
   "source": [
    "def plot_numerical_user_value(df, user_col, log=False):\n",
    "    values = df_train.groupby('out_uid').median()[user_col].values\n",
    "    if log:\n",
    "        values = np.log(values + 1)\n",
    "    plt.hist(values)\n",
    "    plt.grid()"
   ]
  },
  {
   "cell_type": "code",
   "execution_count": 27,
   "metadata": {},
   "outputs": [
    {
     "data": {
      "image/png": "[encoded data removed]",
      "text/plain": [
       "<Figure size 432x288 with 1 Axes>"
      ]
     },
     "metadata": {
      "needs_background": "light"
     },
     "output_type": "display_data"
    }
   ],
   "source": [
    "plot_numerical_user_value(df_train, 'created_at')"
   ]
  },
  {
   "cell_type": "code",
   "execution_count": 28,
   "metadata": {},
   "outputs": [
    {
     "data": {
      "image/png": "[encoded data removed]",
      "text/plain": [
       "<Figure size 432x288 with 1 Axes>"
      ]
     },
     "metadata": {
      "needs_background": "light"
     },
     "output_type": "display_data"
    }
   ],
   "source": [
    "plot_numerical_user_value(df_train, 'verified')"
   ]
  },
  {
   "cell_type": "code",
   "execution_count": 29,
   "metadata": {},
   "outputs": [
    {
     "data": {
      "image/png": "[encoded data removed]",
      "text/plain": [
       "<Figure size 432x288 with 1 Axes>"
      ]
     },
     "metadata": {
      "needs_background": "light"
     },
     "output_type": "display_data"
    }
   ],
   "source": [
    "plot_numerical_user_value(df_train, 'statuses_count', log=True)"
   ]
  },
  {
   "cell_type": "code",
   "execution_count": 30,
   "metadata": {},
   "outputs": [
    {
     "data": {
      "image/png": "[encoded data removed]",
      "text/plain": [
       "<Figure size 432x288 with 1 Axes>"
      ]
     },
     "metadata": {
      "needs_background": "light"
     },
     "output_type": "display_data"
    }
   ],
   "source": [
    "plot_numerical_user_value(df_train, 'geo_enabled')"
   ]
  },
  {
   "cell_type": "code",
   "execution_count": 31,
   "metadata": {},
   "outputs": [
    {
     "data": {
      "image/png": "[encoded data removed]",
      "text/plain": [
       "<Figure size 432x288 with 1 Axes>"
      ]
     },
     "metadata": {
      "needs_background": "light"
     },
     "output_type": "display_data"
    }
   ],
   "source": [
    "plot_numerical_user_value(df_train, 'friends_count', log=True)"
   ]
  },
  {
   "cell_type": "code",
   "execution_count": 32,
   "metadata": {},
   "outputs": [
    {
     "data": {
      "image/png": "[encoded data removed]",
      "text/plain": [
       "<Figure size 432x288 with 1 Axes>"
      ]
     },
     "metadata": {
      "needs_background": "light"
     },
     "output_type": "display_data"
    }
   ],
   "source": [
    "plot_numerical_user_value(df_train, 'followers_count', log=True)"
   ]
  },
  {
   "cell_type": "code",
   "execution_count": 33,
   "metadata": {},
   "outputs": [
    {
     "data": {
      "image/png": "[encoded data removed]",
      "text/plain": [
       "<Figure size 432x288 with 1 Axes>"
      ]
     },
     "metadata": {
      "needs_background": "light"
     },
     "output_type": "display_data"
    }
   ],
   "source": [
    "plot_numerical_user_value(df_train, 'favourites_count', log=True)"
   ]
  },
  {
   "cell_type": "markdown",
   "metadata": {},
   "source": [
    "### Applying log transforms where needed"
   ]
  },
  {
   "cell_type": "code",
   "execution_count": 34,
   "metadata": {},
   "outputs": [],
   "source": [
    "to_log = ['favourites_count', 'followers_count', 'friends_count', 'statuses_count']\n",
    "for colname in to_log:\n",
    "    df_train.loc[:, colname] = np.log(df_train.loc[:, colname].values + 1)\n",
    "    df_validate.loc[:, colname] = np.log(df_validate.loc[:, colname].values + 1)"
   ]
  },
  {
   "cell_type": "code",
   "execution_count": 35,
   "metadata": {},
   "outputs": [
    {
     "data": {
      "text/plain": [
       "label               float64\n",
       "root_id               int64\n",
       "in_tweet_idx          int64\n",
       "out_tweet_idx         int64\n",
       "latency             float64\n",
       "in_uid                int64\n",
       "out_uid               int64\n",
       "created_at          float64\n",
       "favourites_count    float64\n",
       "followers_count     float64\n",
       "friends_count       float64\n",
       "geo_enabled         float64\n",
       "has_description     float64\n",
       "len_name            float64\n",
       "len_screen_name     float64\n",
       "listed_count        float64\n",
       "statuses_count      float64\n",
       "verified            float64\n",
       "dtype: object"
      ]
     },
     "execution_count": 35,
     "metadata": {},
     "output_type": "execute_result"
    }
   ],
   "source": [
    "df_train.dtypes"
   ]
  },
  {
   "cell_type": "markdown",
   "metadata": {},
   "source": [
    "Filter first by latency prediction constraint"
   ]
  },
  {
   "cell_type": "code",
   "execution_count": 36,
   "metadata": {},
   "outputs": [
    {
     "data": {
      "text/plain": [
       "497"
      ]
     },
     "execution_count": 36,
     "metadata": {},
     "output_type": "execute_result"
    }
   ],
   "source": [
    "len(df_train.root_id.unique())"
   ]
  },
  {
   "cell_type": "code",
   "execution_count": 37,
   "metadata": {},
   "outputs": [],
   "source": [
    "def cut_by_latency(df):\n",
    "    df = df.loc[df.latency <= PREDICTION_LATENCY]\n",
    "    return df"
   ]
  },
  {
   "cell_type": "code",
   "execution_count": 38,
   "metadata": {},
   "outputs": [],
   "source": [
    "df_train = cut_by_latency(df_train)\n",
    "df_validate = cut_by_latency(df_validate)"
   ]
  },
  {
   "cell_type": "code",
   "execution_count": 39,
   "metadata": {},
   "outputs": [
    {
     "data": {
      "text/plain": [
       "496"
      ]
     },
     "execution_count": 39,
     "metadata": {},
     "output_type": "execute_result"
    }
   ],
   "source": [
    "len(df_train.root_id.unique())"
   ]
  },
  {
   "cell_type": "code",
   "execution_count": 40,
   "metadata": {},
   "outputs": [
    {
     "data": {
      "text/plain": [
       "0.4466796421101557"
      ]
     },
     "execution_count": 40,
     "metadata": {},
     "output_type": "execute_result"
    }
   ],
   "source": [
    "df_train.label.mean()"
   ]
  },
  {
   "cell_type": "code",
   "execution_count": 41,
   "metadata": {},
   "outputs": [
    {
     "data": {
      "text/plain": [
       "<matplotlib.axes._subplots.AxesSubplot at 0x7f56adb8fdd0>"
      ]
     },
     "execution_count": 41,
     "metadata": {},
     "output_type": "execute_result"
    },
    {
     "data": {
      "image/png": "[encoded data removed]",
      "text/plain": [
       "<Figure size 432x288 with 1 Axes>"
      ]
     },
     "metadata": {
      "needs_background": "light"
     },
     "output_type": "display_data"
    }
   ],
   "source": [
    "df_train.latency.hist()"
   ]
  },
  {
   "cell_type": "markdown",
   "metadata": {},
   "source": [
    "First analysis based on a simple aggregation of the features by root_id\n",
    "- in_tweet -> nunique\n",
    "- latency -> mean\n",
    "- in_uid -> nunique\n",
    "- created_at -> mean\n",
    "- followers_count -> mean\n",
    "- favourites_count -> mean\n",
    "- friends_count -> mean\n",
    "- geo_enabled -> mean\n",
    "- has_description -> mean\n",
    "- statuses_count -> mean\n",
    "- verified -> mean"
   ]
  },
  {
   "cell_type": "code",
   "execution_count": 42,
   "metadata": {},
   "outputs": [
    {
     "data": {
      "text/plain": [
       "Index(['label', 'root_id', 'in_tweet_idx', 'out_tweet_idx', 'latency',\n",
       "       'in_uid', 'out_uid', 'created_at', 'favourites_count',\n",
       "       'followers_count', 'friends_count', 'geo_enabled', 'has_description',\n",
       "       'len_name', 'len_screen_name', 'listed_count', 'statuses_count',\n",
       "       'verified'],\n",
       "      dtype='object')"
      ]
     },
     "execution_count": 42,
     "metadata": {},
     "output_type": "execute_result"
    }
   ],
   "source": [
    "df_train.columns"
   ]
  },
  {
   "cell_type": "code",
   "execution_count": 43,
   "metadata": {},
   "outputs": [
    {
     "data": {
      "text/plain": [
       "['label',\n",
       " 'root_id',\n",
       " 'in_tweet_idx',\n",
       " 'out_tweet_idx',\n",
       " 'latency',\n",
       " 'in_uid',\n",
       " 'out_uid',\n",
       " 'created_at',\n",
       " 'favourites_count',\n",
       " 'followers_count',\n",
       " 'friends_count',\n",
       " 'geo_enabled',\n",
       " 'has_description',\n",
       " 'statuses_count',\n",
       " 'verified']"
      ]
     },
     "execution_count": 43,
     "metadata": {},
     "output_type": "execute_result"
    }
   ],
   "source": [
    "cols_kept = [colname for colname in df_train.columns if colname not in ['len_name', 'len_screen_name', 'listed_count']]\n",
    "cols_kept"
   ]
  },
  {
   "cell_type": "code",
   "execution_count": 44,
   "metadata": {},
   "outputs": [],
   "source": [
    "count_cols = ['out_tweet_idx', 'out_uid', 'in_tweet_idx', 'in_uid']"
   ]
  },
  {
   "cell_type": "code",
   "execution_count": 45,
   "metadata": {},
   "outputs": [],
   "source": [
    "mean_cols = [colname for colname in cols_kept if colname not in count_cols]"
   ]
  },
  {
   "cell_type": "code",
   "execution_count": 46,
   "metadata": {},
   "outputs": [
    {
     "data": {
      "text/plain": [
       "[]"
      ]
     },
     "execution_count": 46,
     "metadata": {},
     "output_type": "execute_result"
    }
   ],
   "source": [
    "sum_cols = []\n",
    "sum_cols"
   ]
  },
  {
   "cell_type": "code",
   "execution_count": 47,
   "metadata": {},
   "outputs": [
    {
     "name": "stdout",
     "output_type": "stream",
     "text": [
      "15 11 4 0\n"
     ]
    }
   ],
   "source": [
    "print(len(cols_kept), len(mean_cols), len(count_cols), len(sum_cols))"
   ]
  },
  {
   "cell_type": "code",
   "execution_count": 48,
   "metadata": {},
   "outputs": [],
   "source": [
    "df_train = df_train[cols_kept]\n",
    "df_validate = df_validate[cols_kept]"
   ]
  },
  {
   "cell_type": "code",
   "execution_count": 49,
   "metadata": {},
   "outputs": [
    {
     "data": {
      "text/html": [
       "<div>\n",
       "<style scoped>\n",
       "    .dataframe tbody tr th:only-of-type {\n",
       "        vertical-align: middle;\n",
       "    }\n",
       "\n",
       "    .dataframe tbody tr th {\n",
       "        vertical-align: top;\n",
       "    }\n",
       "\n",
       "    .dataframe thead th {\n",
       "        text-align: right;\n",
       "    }\n",
       "</style>\n",
       "<table border=\"1\" class=\"dataframe\">\n",
       "  <thead>\n",
       "    <tr style=\"text-align: right;\">\n",
       "      <th></th>\n",
       "      <th>label</th>\n",
       "      <th>root_id</th>\n",
       "      <th>in_tweet_idx</th>\n",
       "      <th>out_tweet_idx</th>\n",
       "      <th>latency</th>\n",
       "      <th>in_uid</th>\n",
       "      <th>out_uid</th>\n",
       "      <th>created_at</th>\n",
       "      <th>favourites_count</th>\n",
       "      <th>followers_count</th>\n",
       "      <th>friends_count</th>\n",
       "      <th>geo_enabled</th>\n",
       "      <th>has_description</th>\n",
       "      <th>statuses_count</th>\n",
       "      <th>verified</th>\n",
       "    </tr>\n",
       "  </thead>\n",
       "  <tbody>\n",
       "    <tr>\n",
       "      <td>0</td>\n",
       "      <td>1.0</td>\n",
       "      <td>509463933564891137</td>\n",
       "      <td>0</td>\n",
       "      <td>1</td>\n",
       "      <td>0.35</td>\n",
       "      <td>13461662</td>\n",
       "      <td>59897849</td>\n",
       "      <td>14449.0</td>\n",
       "      <td>9.084437</td>\n",
       "      <td>6.192362</td>\n",
       "      <td>7.224753</td>\n",
       "      <td>0.0</td>\n",
       "      <td>1.0</td>\n",
       "      <td>9.350885</td>\n",
       "      <td>0.0</td>\n",
       "    </tr>\n",
       "    <tr>\n",
       "      <td>1</td>\n",
       "      <td>1.0</td>\n",
       "      <td>509463933564891137</td>\n",
       "      <td>0</td>\n",
       "      <td>2</td>\n",
       "      <td>0.60</td>\n",
       "      <td>13461662</td>\n",
       "      <td>24253448</td>\n",
       "      <td>14316.0</td>\n",
       "      <td>7.316548</td>\n",
       "      <td>6.259581</td>\n",
       "      <td>6.327937</td>\n",
       "      <td>0.0</td>\n",
       "      <td>1.0</td>\n",
       "      <td>10.447438</td>\n",
       "      <td>0.0</td>\n",
       "    </tr>\n",
       "    <tr>\n",
       "      <td>2</td>\n",
       "      <td>1.0</td>\n",
       "      <td>509463933564891137</td>\n",
       "      <td>0</td>\n",
       "      <td>3</td>\n",
       "      <td>0.62</td>\n",
       "      <td>13461662</td>\n",
       "      <td>23700297</td>\n",
       "      <td>14314.0</td>\n",
       "      <td>9.301643</td>\n",
       "      <td>6.703188</td>\n",
       "      <td>6.440947</td>\n",
       "      <td>1.0</td>\n",
       "      <td>1.0</td>\n",
       "      <td>9.952135</td>\n",
       "      <td>0.0</td>\n",
       "    </tr>\n",
       "    <tr>\n",
       "      <td>3</td>\n",
       "      <td>1.0</td>\n",
       "      <td>509463933564891137</td>\n",
       "      <td>0</td>\n",
       "      <td>4</td>\n",
       "      <td>0.70</td>\n",
       "      <td>13461662</td>\n",
       "      <td>14631962</td>\n",
       "      <td>14001.0</td>\n",
       "      <td>10.724192</td>\n",
       "      <td>5.771441</td>\n",
       "      <td>6.359574</td>\n",
       "      <td>0.0</td>\n",
       "      <td>1.0</td>\n",
       "      <td>10.936601</td>\n",
       "      <td>0.0</td>\n",
       "    </tr>\n",
       "    <tr>\n",
       "      <td>4</td>\n",
       "      <td>1.0</td>\n",
       "      <td>509463933564891137</td>\n",
       "      <td>0</td>\n",
       "      <td>5</td>\n",
       "      <td>0.87</td>\n",
       "      <td>13461662</td>\n",
       "      <td>50256333</td>\n",
       "      <td>14419.0</td>\n",
       "      <td>8.385032</td>\n",
       "      <td>7.520235</td>\n",
       "      <td>7.726213</td>\n",
       "      <td>1.0</td>\n",
       "      <td>1.0</td>\n",
       "      <td>9.576579</td>\n",
       "      <td>0.0</td>\n",
       "    </tr>\n",
       "  </tbody>\n",
       "</table>\n",
       "</div>"
      ],
      "text/plain": [
       "   label             root_id  in_tweet_idx  out_tweet_idx  latency    in_uid  \\\n",
       "0    1.0  509463933564891137             0              1     0.35  13461662   \n",
       "1    1.0  509463933564891137             0              2     0.60  13461662   \n",
       "2    1.0  509463933564891137             0              3     0.62  13461662   \n",
       "3    1.0  509463933564891137             0              4     0.70  13461662   \n",
       "4    1.0  509463933564891137             0              5     0.87  13461662   \n",
       "\n",
       "    out_uid  created_at  favourites_count  followers_count  friends_count  \\\n",
       "0  59897849     14449.0          9.084437         6.192362       7.224753   \n",
       "1  24253448     14316.0          7.316548         6.259581       6.327937   \n",
       "2  23700297     14314.0          9.301643         6.703188       6.440947   \n",
       "3  14631962     14001.0         10.724192         5.771441       6.359574   \n",
       "4  50256333     14419.0          8.385032         7.520235       7.726213   \n",
       "\n",
       "   geo_enabled  has_description  statuses_count  verified  \n",
       "0          0.0              1.0        9.350885       0.0  \n",
       "1          0.0              1.0       10.447438       0.0  \n",
       "2          1.0              1.0        9.952135       0.0  \n",
       "3          0.0              1.0       10.936601       0.0  \n",
       "4          1.0              1.0        9.576579       0.0  "
      ]
     },
     "execution_count": 49,
     "metadata": {},
     "output_type": "execute_result"
    }
   ],
   "source": [
    "df_train.head()"
   ]
  },
  {
   "cell_type": "code",
   "execution_count": 50,
   "metadata": {},
   "outputs": [],
   "source": [
    "def aggregation_v0(df):\n",
    "    aggregations_dict = {name:'sum' for name in sum_cols}\n",
    "    aggregations_dict.update({name: 'mean' for name in mean_cols})\n",
    "    aggregations_dict.update({name: 'nunique' for name in count_cols})\n",
    "    aggregated_data = df.groupby('root_id').agg(aggregations_dict)\n",
    "    aggregated_data = aggregated_data.reset_index(drop=True)\n",
    "    aggregated_data = aggregated_data.drop(columns='root_id')\n",
    "    return aggregated_data"
   ]
  },
  {
   "cell_type": "code",
   "execution_count": 51,
   "metadata": {},
   "outputs": [],
   "source": [
    "intermediate_levels = [75, 150, PREDICTION_LATENCY]\n",
    "latency_bins = list(range(len(intermediate_levels)))"
   ]
  },
  {
   "cell_type": "code",
   "execution_count": 52,
   "metadata": {},
   "outputs": [],
   "source": [
    "def to_latency_bin(x):\n",
    "    for ix, latency_level in enumerate(intermediate_levels):\n",
    "        if x <= latency_level:\n",
    "            return latency_bins[ix]\n",
    "    return latency_bins[-1]"
   ]
  },
  {
   "cell_type": "code",
   "execution_count": 53,
   "metadata": {},
   "outputs": [],
   "source": [
    "def aggregation_v1(df):\n",
    "    aggregations_dict = {name:'sum' for name in sum_cols}\n",
    "    aggregations_dict.update({name: 'mean' for name in mean_cols})\n",
    "    aggregations_dict.update({name: 'nunique' for name in count_cols})\n",
    "    df.loc[: , 'indexer_latency'] = df.latency.apply(to_latency_bin)\n",
    "    aggregated_data = df.groupby(['root_id', 'indexer_latency']).agg(aggregations_dict)\n",
    "    aggregated_data = aggregated_data.drop(columns='root_id')\n",
    "    aggregated_data = aggregated_data.unstack(level=-1).dropna(axis=0, how='any')\n",
    "    aggregated_data.columns = ['_'.join([str(x) for x in col]) for col in aggregated_data.columns.values]\n",
    "    aggregated_data = aggregated_data.drop(columns=['label_{}'.format(i) for i in range(1, len(intermediate_levels))])\n",
    "    aggregated_data = aggregated_data.rename(columns={\"label_0\":\"label\"})\n",
    "    aggregated_data = aggregated_data.reset_index(drop=True)\n",
    "    return aggregated_data"
   ]
  },
  {
   "cell_type": "code",
   "execution_count": 54,
   "metadata": {},
   "outputs": [],
   "source": [
    "def aggregation_v0(df):\n",
    "    aggregations_dict = {name:'sum' for name in sum_cols}\n",
    "    aggregations_dict.update({name: 'mean' for name in mean_cols})\n",
    "    aggregations_dict.update({name: 'nunique' for name in count_cols})\n",
    "    aggregated_data = df.groupby('root_id').agg(aggregations_dict)\n",
    "    aggregated_data = aggregated_data.reset_index(drop=True)\n",
    "    aggregated_data = aggregated_data.drop(columns='root_id')\n",
    "    return aggregated_data"
   ]
  },
  {
   "cell_type": "markdown",
   "metadata": {},
   "source": [
    "### We aggregate the features as planned and fit a GB with Decision Trees model, evaluate its ROC-AUC perf on val"
   ]
  },
  {
   "cell_type": "code",
   "execution_count": 55,
   "metadata": {},
   "outputs": [],
   "source": [
    "df_train = aggregation_v0(df_train) # user v1 if you want to make several aggregations binned by latency level\n",
    "df_validate = aggregation_v0(df_validate)"
   ]
  },
  {
   "cell_type": "code",
   "execution_count": 56,
   "metadata": {},
   "outputs": [
    {
     "data": {
      "text/plain": [
       "496"
      ]
     },
     "execution_count": 56,
     "metadata": {},
     "output_type": "execute_result"
    }
   ],
   "source": [
    "len(df_train)"
   ]
  },
  {
   "cell_type": "code",
   "execution_count": 57,
   "metadata": {},
   "outputs": [
    {
     "data": {
      "text/html": [
       "<div>\n",
       "<style scoped>\n",
       "    .dataframe tbody tr th:only-of-type {\n",
       "        vertical-align: middle;\n",
       "    }\n",
       "\n",
       "    .dataframe tbody tr th {\n",
       "        vertical-align: top;\n",
       "    }\n",
       "\n",
       "    .dataframe thead th {\n",
       "        text-align: right;\n",
       "    }\n",
       "</style>\n",
       "<table border=\"1\" class=\"dataframe\">\n",
       "  <thead>\n",
       "    <tr style=\"text-align: right;\">\n",
       "      <th></th>\n",
       "      <th>label</th>\n",
       "      <th>latency</th>\n",
       "      <th>created_at</th>\n",
       "      <th>favourites_count</th>\n",
       "      <th>followers_count</th>\n",
       "      <th>friends_count</th>\n",
       "      <th>geo_enabled</th>\n",
       "      <th>has_description</th>\n",
       "      <th>statuses_count</th>\n",
       "      <th>verified</th>\n",
       "      <th>out_tweet_idx</th>\n",
       "      <th>out_uid</th>\n",
       "      <th>in_tweet_idx</th>\n",
       "      <th>in_uid</th>\n",
       "    </tr>\n",
       "  </thead>\n",
       "  <tbody>\n",
       "    <tr>\n",
       "      <td>0</td>\n",
       "      <td>0.0</td>\n",
       "      <td>41.045604</td>\n",
       "      <td>14425.626374</td>\n",
       "      <td>7.102221</td>\n",
       "      <td>6.502680</td>\n",
       "      <td>6.454670</td>\n",
       "      <td>0.582418</td>\n",
       "      <td>0.868132</td>\n",
       "      <td>9.378137</td>\n",
       "      <td>0.021978</td>\n",
       "      <td>91</td>\n",
       "      <td>91</td>\n",
       "      <td>4</td>\n",
       "      <td>4</td>\n",
       "    </tr>\n",
       "    <tr>\n",
       "      <td>1</td>\n",
       "      <td>0.0</td>\n",
       "      <td>40.494248</td>\n",
       "      <td>14488.610619</td>\n",
       "      <td>6.547398</td>\n",
       "      <td>6.426634</td>\n",
       "      <td>6.327637</td>\n",
       "      <td>0.557522</td>\n",
       "      <td>0.902655</td>\n",
       "      <td>9.349890</td>\n",
       "      <td>0.026549</td>\n",
       "      <td>113</td>\n",
       "      <td>113</td>\n",
       "      <td>4</td>\n",
       "      <td>4</td>\n",
       "    </tr>\n",
       "    <tr>\n",
       "      <td>2</td>\n",
       "      <td>0.0</td>\n",
       "      <td>56.026618</td>\n",
       "      <td>14727.024510</td>\n",
       "      <td>7.799306</td>\n",
       "      <td>5.499266</td>\n",
       "      <td>6.075536</td>\n",
       "      <td>0.553922</td>\n",
       "      <td>0.774510</td>\n",
       "      <td>8.848187</td>\n",
       "      <td>0.019608</td>\n",
       "      <td>198</td>\n",
       "      <td>198</td>\n",
       "      <td>7</td>\n",
       "      <td>7</td>\n",
       "    </tr>\n",
       "    <tr>\n",
       "      <td>3</td>\n",
       "      <td>0.0</td>\n",
       "      <td>53.227647</td>\n",
       "      <td>14867.798762</td>\n",
       "      <td>7.206289</td>\n",
       "      <td>5.593099</td>\n",
       "      <td>5.861989</td>\n",
       "      <td>0.504644</td>\n",
       "      <td>0.792570</td>\n",
       "      <td>8.558563</td>\n",
       "      <td>0.021672</td>\n",
       "      <td>323</td>\n",
       "      <td>323</td>\n",
       "      <td>9</td>\n",
       "      <td>9</td>\n",
       "    </tr>\n",
       "    <tr>\n",
       "      <td>4</td>\n",
       "      <td>0.0</td>\n",
       "      <td>42.627356</td>\n",
       "      <td>14805.693009</td>\n",
       "      <td>7.429430</td>\n",
       "      <td>5.636058</td>\n",
       "      <td>6.036833</td>\n",
       "      <td>0.516717</td>\n",
       "      <td>0.793313</td>\n",
       "      <td>8.756506</td>\n",
       "      <td>0.012158</td>\n",
       "      <td>329</td>\n",
       "      <td>329</td>\n",
       "      <td>5</td>\n",
       "      <td>5</td>\n",
       "    </tr>\n",
       "  </tbody>\n",
       "</table>\n",
       "</div>"
      ],
      "text/plain": [
       "   label    latency    created_at  favourites_count  followers_count  \\\n",
       "0    0.0  41.045604  14425.626374          7.102221         6.502680   \n",
       "1    0.0  40.494248  14488.610619          6.547398         6.426634   \n",
       "2    0.0  56.026618  14727.024510          7.799306         5.499266   \n",
       "3    0.0  53.227647  14867.798762          7.206289         5.593099   \n",
       "4    0.0  42.627356  14805.693009          7.429430         5.636058   \n",
       "\n",
       "   friends_count  geo_enabled  has_description  statuses_count  verified  \\\n",
       "0       6.454670     0.582418         0.868132        9.378137  0.021978   \n",
       "1       6.327637     0.557522         0.902655        9.349890  0.026549   \n",
       "2       6.075536     0.553922         0.774510        8.848187  0.019608   \n",
       "3       5.861989     0.504644         0.792570        8.558563  0.021672   \n",
       "4       6.036833     0.516717         0.793313        8.756506  0.012158   \n",
       "\n",
       "   out_tweet_idx  out_uid  in_tweet_idx  in_uid  \n",
       "0             91       91             4       4  \n",
       "1            113      113             4       4  \n",
       "2            198      198             7       7  \n",
       "3            323      323             9       9  \n",
       "4            329      329             5       5  "
      ]
     },
     "execution_count": 57,
     "metadata": {},
     "output_type": "execute_result"
    }
   ],
   "source": [
    "df_train.head()"
   ]
  },
  {
   "cell_type": "code",
   "execution_count": 58,
   "metadata": {},
   "outputs": [],
   "source": [
    "def binned_plot(data, feature_col, target_col, nquantiles=5):\n",
    "    feature_vals = data.loc[:, feature_col].values\n",
    "    target_vals = data.loc[:, target_col].values\n",
    "    quantiles_to_compute = np.linspace(0, 1, num=nquantiles+2)\n",
    "    bin_edges = np.quantile(feature_vals, q=quantiles_to_compute)\n",
    "    nx, _ = np.histogram(feature_vals, bins=bin_edges)\n",
    "    sum_x, _ = np.histogram(feature_vals, bins=bin_edges, weights=feature_vals)\n",
    "    sum_y, _ = np.histogram(feature_vals, bins=bin_edges, weights=target_vals)\n",
    "    plt.plot(sum_x / nx, sum_y/nx, color='black')\n",
    "    plt.xlabel('Feature {}'.format(feature_col))\n",
    "    plt.ylabel('Target mean')\n",
    "    plt.ylim(target_vals.min(), target_vals.max())\n",
    "    plt.grid()\n",
    "    plt.show()\n",
    "    plt.close()"
   ]
  },
  {
   "cell_type": "markdown",
   "metadata": {},
   "source": [
    "### Binned Plots: they let us see how predictive our features are of the label"
   ]
  },
  {
   "cell_type": "code",
   "execution_count": 59,
   "metadata": {},
   "outputs": [
    {
     "data": {
      "image/png": "[encoded data removed]",
      "text/plain": [
       "<Figure size 432x288 with 1 Axes>"
      ]
     },
     "metadata": {
      "needs_background": "light"
     },
     "output_type": "display_data"
    },
    {
     "data": {
      "image/png": "[encoded data removed]",
      "text/plain": [
       "<Figure size 432x288 with 1 Axes>"
      ]
     },
     "metadata": {
      "needs_background": "light"
     },
     "output_type": "display_data"
    },
    {
     "data": {
      "image/png": "[encoded data removed]",
      "text/plain": [
       "<Figure size 432x288 with 1 Axes>"
      ]
     },
     "metadata": {
      "needs_background": "light"
     },
     "output_type": "display_data"
    },
    {
     "data": {
      "image/png": "[encoded data removed]",
      "text/plain": [
       "<Figure size 432x288 with 1 Axes>"
      ]
     },
     "metadata": {
      "needs_background": "light"
     },
     "output_type": "display_data"
    },
    {
     "data": {
      "image/png": "[encoded data removed]",
      "text/plain": [
       "<Figure size 432x288 with 1 Axes>"
      ]
     },
     "metadata": {
      "needs_background": "light"
     },
     "output_type": "display_data"
    },
    {
     "data": {
      "image/png": "[encoded data removed]",
      "text/plain": [
       "<Figure size 432x288 with 1 Axes>"
      ]
     },
     "metadata": {
      "needs_background": "light"
     },
     "output_type": "display_data"
    },
    {
     "data": {
      "image/png": "[encoded data removed]",
      "text/plain": [
       "<Figure size 432x288 with 1 Axes>"
      ]
     },
     "metadata": {
      "needs_background": "light"
     },
     "output_type": "display_data"
    },
    {
     "data": {
      "image/png": "[encoded data removed]",
      "text/plain": [
       "<Figure size 432x288 with 1 Axes>"
      ]
     },
     "metadata": {
      "needs_background": "light"
     },
     "output_type": "display_data"
    },
    {
     "name": "stderr",
     "output_type": "stream",
     "text": [
      "/home/arnaud15/miniconda3/envs/snap/lib/python3.7/site-packages/ipykernel_launcher.py:9: RuntimeWarning: invalid value encountered in true_divide\n",
      "  if __name__ == '__main__':\n"
     ]
    },
    {
     "data": {
      "image/png": "[encoded data removed]",
      "text/plain": [
       "<Figure size 432x288 with 1 Axes>"
      ]
     },
     "metadata": {
      "needs_background": "light"
     },
     "output_type": "display_data"
    },
    {
     "data": {
      "image/png": "[encoded data removed]",
      "text/plain": [
       "<Figure size 432x288 with 1 Axes>"
      ]
     },
     "metadata": {
      "needs_background": "light"
     },
     "output_type": "display_data"
    },
    {
     "data": {
      "image/png": "[encoded data removed]",
      "text/plain": [
       "<Figure size 432x288 with 1 Axes>"
      ]
     },
     "metadata": {
      "needs_background": "light"
     },
     "output_type": "display_data"
    },
    {
     "data": {
      "image/png": "[encoded data removed]",
      "text/plain": [
       "<Figure size 432x288 with 1 Axes>"
      ]
     },
     "metadata": {
      "needs_background": "light"
     },
     "output_type": "display_data"
    },
    {
     "data": {
      "image/png": "[encoded data removed]",
      "text/plain": [
       "<Figure size 432x288 with 1 Axes>"
      ]
     },
     "metadata": {
      "needs_background": "light"
     },
     "output_type": "display_data"
    }
   ],
   "source": [
    "[binned_plot(df_train, col, 'label') for col in df_train.columns if col != 'label'];"
   ]
  },
  {
   "cell_type": "markdown",
   "metadata": {},
   "source": [
    "### No clear trend above, for any feature, we snity check with a correlation heatmap that -unsurprisingly- will be as pale"
   ]
  },
  {
   "cell_type": "code",
   "execution_count": 60,
   "metadata": {},
   "outputs": [],
   "source": [
    "sns.set(style=\"white\")"
   ]
  },
  {
   "cell_type": "code",
   "execution_count": 61,
   "metadata": {},
   "outputs": [],
   "source": [
    "def generate_corr_heatmap(df):\n",
    "    corr = df.corr()\n",
    "\n",
    "    # Generate a mask for the upper triangle\n",
    "    mask = np.zeros_like(corr, dtype=np.bool)\n",
    "    mask[np.triu_indices_from(mask)] = True\n",
    "\n",
    "    # Set up the matplotlib figure\n",
    "    f, ax = plt.subplots(figsize=(11, 9))\n",
    "\n",
    "    # Generate a custom diverging colormap\n",
    "    cmap = sns.diverging_palette(220, 10, as_cmap=True)\n",
    "\n",
    "    # Draw the heatmap with the mask and correct aspect ratio\n",
    "    sns.heatmap(corr, mask=mask, cmap=cmap, vmax=.3, center=0,\n",
    "                square=True, linewidths=.5, cbar_kws={\"shrink\": .5})"
   ]
  },
  {
   "cell_type": "markdown",
   "metadata": {},
   "source": [
    "### Correlations heatmap"
   ]
  },
  {
   "cell_type": "code",
   "execution_count": 62,
   "metadata": {},
   "outputs": [
    {
     "data": {
      "image/png": "[encoded data removed]",
      "text/plain": [
       "<Figure size 792x648 with 2 Axes>"
      ]
     },
     "metadata": {},
     "output_type": "display_data"
    }
   ],
   "source": [
    "generate_corr_heatmap(df_train)"
   ]
  },
  {
   "cell_type": "markdown",
   "metadata": {},
   "source": [
    "### We check the performance of a LightGBM GBDT model would do in terms of corss validation ROC-AUC score "
   ]
  },
  {
   "cell_type": "code",
   "execution_count": 63,
   "metadata": {},
   "outputs": [],
   "source": [
    "def lgb_eval_and_fit(df):\n",
    "    X = df.drop(columns=[\"label\"])\n",
    "    y = df.label\n",
    "    kf = KFold(n_splits=5, shuffle=False)\n",
    "    len_ = X.values.shape[0]\n",
    "\n",
    "    lgb_classifier = lgb.LGBMClassifier(boosting_type='gbdt', max_depth=5, learning_rate=0.05, n_estimators=100, class_weight='balanced')\n",
    "\n",
    "\n",
    "    scores_lgb = []\n",
    "    for train_index, test_index in kf.split(np.arange(len_)):\n",
    "        X_train, X_test = X.iloc[train_index], X.iloc[test_index]\n",
    "        y_train, y_test = y.iloc[train_index], y.iloc[test_index]\n",
    "        lgb_classifier.fit(X_train, y_train)\n",
    "        y_pref_lgb = lgb_classifier.predict(X_test)\n",
    "        scores_lgb.append(roc_auc_score(y_test, y_pref_lgb))\n",
    "    print(\"5-fold mean ROC AUC score for lightgbm: {:.5f}\".format(sum(scores_lgb) / len(scores_lgb)))\n",
    "\n",
    "    lgb_classifier.fit(X, y)\n",
    "    return lgb_classifier"
   ]
  },
  {
   "cell_type": "code",
   "execution_count": 64,
   "metadata": {},
   "outputs": [
    {
     "name": "stdout",
     "output_type": "stream",
     "text": [
      "5-fold mean ROC AUC score for lightgbm: 0.53583\n"
     ]
    }
   ],
   "source": [
    "lgb_model = lgb_eval_and_fit(df_train)"
   ]
  },
  {
   "cell_type": "markdown",
   "metadata": {},
   "source": [
    "### Feature importance"
   ]
  },
  {
   "cell_type": "code",
   "execution_count": 65,
   "metadata": {},
   "outputs": [
    {
     "data": {
      "text/plain": [
       "<matplotlib.axes._subplots.AxesSubplot at 0x7f56a214d1d0>"
      ]
     },
     "execution_count": 65,
     "metadata": {},
     "output_type": "execute_result"
    },
    {
     "data": {
      "image/png": "[encoded data removed]",
      "text/plain": [
       "<Figure size 432x288 with 1 Axes>"
      ]
     },
     "metadata": {},
     "output_type": "display_data"
    }
   ],
   "source": [
    "lgb.plot_importance(lgb_model)"
   ]
  },
  {
   "cell_type": "markdown",
   "metadata": {},
   "source": [
    "### Score on val\n",
    "- Val is very small so score is not to be trusted too much\n",
    "- We shouldn't touch at test yet"
   ]
  },
  {
   "cell_type": "code",
   "execution_count": 66,
   "metadata": {},
   "outputs": [
    {
     "name": "stdout",
     "output_type": "stream",
     "text": [
      "ROC AUC score on val: 0.70940\n"
     ]
    }
   ],
   "source": [
    "X_val = df_validate.drop(columns='label')\n",
    "y_val = df_validate.label\n",
    "predictions_val = lgb_model.predict(X_val)\n",
    "print(\"ROC AUC score on val: {:.5f}\".format(roc_auc_score(y_val, predictions_val)))"
   ]
  }
 ],
 "metadata": {
  "kernelspec": {
   "display_name": "Python 3",
   "language": "python",
   "name": "python3"
  },
  "language_info": {
   "codemirror_mode": {
    "name": "ipython",
    "version": 3
   },
   "file_extension": ".py",
   "mimetype": "text/x-python",
   "name": "python",
   "nbconvert_exporter": "python",
   "pygments_lexer": "ipython3",
   "version": "3.7.4"
  }
 },
 "nbformat": 4,
 "nbformat_minor": 4
}
