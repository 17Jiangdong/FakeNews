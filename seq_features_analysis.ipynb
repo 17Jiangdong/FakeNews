{
 "cells": [
  {
   "cell_type": "code",
   "execution_count": 632,
   "metadata": {},
   "outputs": [],
   "source": [
    "import dataset as ds\n",
    "import numpy as np\n",
    "import pandas as pd\n",
    "import matplotlib.pyplot as plt"
   ]
  },
  {
   "cell_type": "code",
   "execution_count": 633,
   "metadata": {},
   "outputs": [],
   "source": [
    "CUTOFF = 10000"
   ]
  },
  {
   "cell_type": "code",
   "execution_count": 634,
   "metadata": {},
   "outputs": [],
   "source": [
    "exp_name = \"twitter15\""
   ]
  },
  {
   "cell_type": "code",
   "execution_count": 635,
   "metadata": {},
   "outputs": [
    {
     "name": "stdout",
     "output_type": "stream",
     "text": [
      "Considering 4 classes problem\n",
      "We consider tweets emitted no later than 10000mins after the root tweet\n",
      "Features that will be considered: user_only\n",
      "Len train/val/test 1005 149 336\n",
      "Oversampling...\n",
      "Before oversampling: 1490 trees, 1005 train trees\n",
      "After oversampling: 1490 trees, 1005 train trees\n",
      "Dataset loaded in 38.045s\n"
     ]
    }
   ],
   "source": [
    "data_builder = ds.DatasetBuilder(exp_name, time_cutoff=CUTOFF)\n",
    "dataset = data_builder.create_dataset(dataset_type=\"raw\", standardize_features=False)"
   ]
  },
  {
   "cell_type": "code",
   "execution_count": 636,
   "metadata": {},
   "outputs": [],
   "source": [
    "raw_train = dataset['train']\n",
    "raw_validate = dataset['val']\n",
    "raw_test = dataset['test']"
   ]
  },
  {
   "cell_type": "code",
   "execution_count": 637,
   "metadata": {},
   "outputs": [
    {
     "data": {
      "text/plain": [
       "1005"
      ]
     },
     "execution_count": 637,
     "metadata": {},
     "output_type": "execute_result"
    }
   ],
   "source": [
    "len(raw_train)"
   ]
  },
  {
   "cell_type": "code",
   "execution_count": 638,
   "metadata": {},
   "outputs": [],
   "source": [
    "# raw_train[0][0]"
   ]
  },
  {
   "cell_type": "code",
   "execution_count": 639,
   "metadata": {},
   "outputs": [
    {
     "data": {
      "text/plain": [
       "18"
      ]
     },
     "execution_count": 639,
     "metadata": {},
     "output_type": "execute_result"
    }
   ],
   "source": [
    "edge_feature_names = [\"created_at\",\n",
    "                    \"favourites_count\", \n",
    "                    \"followers_count\", \n",
    "                    \"friends_count\", \n",
    "                    \"geo_enabled\",\n",
    "                    \"has_description\",\n",
    "                    \"len_name\",\n",
    "                    \"len_screen_name\",\n",
    "                    \"listed_count\",\n",
    "                    \"statuses_count\", \n",
    "                    \"verified\"\n",
    "                     ]\n",
    "edge_feature_names = sorted(edge_feature_names)\n",
    "edge_feature_names = [\"label\",\n",
    "                      \"root_id\",\n",
    "                      \"in_tweet_idx\",\n",
    "                      \"out_tweet_idx\",\n",
    "                      \"latency\",\n",
    "                      \"in_uid\",\n",
    "                      \"out_uid\"] + edge_feature_names\n",
    "n_cols = len(edge_feature_names)\n",
    "n_cols"
   ]
  },
  {
   "cell_type": "code",
   "execution_count": 640,
   "metadata": {},
   "outputs": [],
   "source": [
    "# edge_feature_names"
   ]
  },
  {
   "cell_type": "code",
   "execution_count": 641,
   "metadata": {},
   "outputs": [],
   "source": [
    "PREDICTION_LATENCY = 120 # in minutes after the first tweet is emitted"
   ]
  },
  {
   "cell_type": "code",
   "execution_count": 642,
   "metadata": {},
   "outputs": [],
   "source": [
    "def get_df_from_raw(raw_data):\n",
    "    data_dict = {name:[] for name in edge_feature_names}\n",
    "    for features_sequence in raw_data:\n",
    "        for dp in features_sequence:\n",
    "            for i in range(n_cols):\n",
    "                data_dict[edge_feature_names[i]].append(dp[i])\n",
    "    df = pd.DataFrame(data=data_dict)\n",
    "    return df"
   ]
  },
  {
   "cell_type": "code",
   "execution_count": 643,
   "metadata": {},
   "outputs": [],
   "source": [
    "df_train = get_df_from_raw(raw_train)\n",
    "df_validate = get_df_from_raw(raw_validate)\n",
    "df_test = get_df_from_raw(raw_test)"
   ]
  },
  {
   "cell_type": "code",
   "execution_count": 644,
   "metadata": {},
   "outputs": [
    {
     "data": {
      "text/html": [
       "<div>\n",
       "<style scoped>\n",
       "    .dataframe tbody tr th:only-of-type {\n",
       "        vertical-align: middle;\n",
       "    }\n",
       "\n",
       "    .dataframe tbody tr th {\n",
       "        vertical-align: top;\n",
       "    }\n",
       "\n",
       "    .dataframe thead th {\n",
       "        text-align: right;\n",
       "    }\n",
       "</style>\n",
       "<table border=\"1\" class=\"dataframe\">\n",
       "  <thead>\n",
       "    <tr style=\"text-align: right;\">\n",
       "      <th></th>\n",
       "      <th>label</th>\n",
       "      <th>root_id</th>\n",
       "      <th>in_tweet_idx</th>\n",
       "      <th>out_tweet_idx</th>\n",
       "      <th>latency</th>\n",
       "      <th>in_uid</th>\n",
       "      <th>out_uid</th>\n",
       "      <th>created_at</th>\n",
       "      <th>favourites_count</th>\n",
       "      <th>followers_count</th>\n",
       "      <th>friends_count</th>\n",
       "      <th>geo_enabled</th>\n",
       "      <th>has_description</th>\n",
       "      <th>len_name</th>\n",
       "      <th>len_screen_name</th>\n",
       "      <th>listed_count</th>\n",
       "      <th>statuses_count</th>\n",
       "      <th>verified</th>\n",
       "    </tr>\n",
       "  </thead>\n",
       "  <tbody>\n",
       "    <tr>\n",
       "      <th>0</th>\n",
       "      <td>non-rumor</td>\n",
       "      <td>766358933296517121</td>\n",
       "      <td>0</td>\n",
       "      <td>1</td>\n",
       "      <td>0.22</td>\n",
       "      <td>428333</td>\n",
       "      <td>2513357536</td>\n",
       "      <td>16187.0</td>\n",
       "      <td>188559.0</td>\n",
       "      <td>617.0</td>\n",
       "      <td>4134.0</td>\n",
       "      <td>0.0</td>\n",
       "      <td>1.0</td>\n",
       "      <td>8.0</td>\n",
       "      <td>6.0</td>\n",
       "      <td>39.0</td>\n",
       "      <td>98835.0</td>\n",
       "      <td>0.0</td>\n",
       "    </tr>\n",
       "    <tr>\n",
       "      <th>1</th>\n",
       "      <td>non-rumor</td>\n",
       "      <td>766358933296517121</td>\n",
       "      <td>0</td>\n",
       "      <td>2</td>\n",
       "      <td>0.22</td>\n",
       "      <td>428333</td>\n",
       "      <td>19770652</td>\n",
       "      <td>14274.0</td>\n",
       "      <td>75.0</td>\n",
       "      <td>514.0</td>\n",
       "      <td>733.0</td>\n",
       "      <td>0.0</td>\n",
       "      <td>1.0</td>\n",
       "      <td>13.0</td>\n",
       "      <td>8.0</td>\n",
       "      <td>32.0</td>\n",
       "      <td>456.0</td>\n",
       "      <td>0.0</td>\n",
       "    </tr>\n",
       "    <tr>\n",
       "      <th>2</th>\n",
       "      <td>non-rumor</td>\n",
       "      <td>766358933296517121</td>\n",
       "      <td>0</td>\n",
       "      <td>3</td>\n",
       "      <td>0.23</td>\n",
       "      <td>428333</td>\n",
       "      <td>751437827364229120</td>\n",
       "      <td>15294.0</td>\n",
       "      <td>5506.0</td>\n",
       "      <td>421.0</td>\n",
       "      <td>487.0</td>\n",
       "      <td>0.0</td>\n",
       "      <td>0.0</td>\n",
       "      <td>11.0</td>\n",
       "      <td>11.0</td>\n",
       "      <td>8.0</td>\n",
       "      <td>13318.0</td>\n",
       "      <td>0.0</td>\n",
       "    </tr>\n",
       "    <tr>\n",
       "      <th>3</th>\n",
       "      <td>non-rumor</td>\n",
       "      <td>766358933296517121</td>\n",
       "      <td>0</td>\n",
       "      <td>4</td>\n",
       "      <td>0.25</td>\n",
       "      <td>428333</td>\n",
       "      <td>137436023</td>\n",
       "      <td>14725.0</td>\n",
       "      <td>6163.0</td>\n",
       "      <td>11887.0</td>\n",
       "      <td>11950.0</td>\n",
       "      <td>1.0</td>\n",
       "      <td>1.0</td>\n",
       "      <td>19.0</td>\n",
       "      <td>12.0</td>\n",
       "      <td>94.0</td>\n",
       "      <td>33441.0</td>\n",
       "      <td>0.0</td>\n",
       "    </tr>\n",
       "    <tr>\n",
       "      <th>4</th>\n",
       "      <td>non-rumor</td>\n",
       "      <td>766358933296517121</td>\n",
       "      <td>0</td>\n",
       "      <td>5</td>\n",
       "      <td>0.25</td>\n",
       "      <td>428333</td>\n",
       "      <td>25224705</td>\n",
       "      <td>14322.0</td>\n",
       "      <td>18342.0</td>\n",
       "      <td>8798.0</td>\n",
       "      <td>2524.0</td>\n",
       "      <td>1.0</td>\n",
       "      <td>1.0</td>\n",
       "      <td>19.0</td>\n",
       "      <td>13.0</td>\n",
       "      <td>162.0</td>\n",
       "      <td>35980.0</td>\n",
       "      <td>0.0</td>\n",
       "    </tr>\n",
       "  </tbody>\n",
       "</table>\n",
       "</div>"
      ],
      "text/plain": [
       "       label             root_id  in_tweet_idx  out_tweet_idx  latency  \\\n",
       "0  non-rumor  766358933296517121             0              1     0.22   \n",
       "1  non-rumor  766358933296517121             0              2     0.22   \n",
       "2  non-rumor  766358933296517121             0              3     0.23   \n",
       "3  non-rumor  766358933296517121             0              4     0.25   \n",
       "4  non-rumor  766358933296517121             0              5     0.25   \n",
       "\n",
       "   in_uid             out_uid  created_at  favourites_count  followers_count  \\\n",
       "0  428333          2513357536     16187.0          188559.0            617.0   \n",
       "1  428333            19770652     14274.0              75.0            514.0   \n",
       "2  428333  751437827364229120     15294.0            5506.0            421.0   \n",
       "3  428333           137436023     14725.0            6163.0          11887.0   \n",
       "4  428333            25224705     14322.0           18342.0           8798.0   \n",
       "\n",
       "   friends_count  geo_enabled  has_description  len_name  len_screen_name  \\\n",
       "0         4134.0          0.0              1.0       8.0              6.0   \n",
       "1          733.0          0.0              1.0      13.0              8.0   \n",
       "2          487.0          0.0              0.0      11.0             11.0   \n",
       "3        11950.0          1.0              1.0      19.0             12.0   \n",
       "4         2524.0          1.0              1.0      19.0             13.0   \n",
       "\n",
       "   listed_count  statuses_count  verified  \n",
       "0          39.0         98835.0       0.0  \n",
       "1          32.0           456.0       0.0  \n",
       "2           8.0         13318.0       0.0  \n",
       "3          94.0         33441.0       0.0  \n",
       "4         162.0         35980.0       0.0  "
      ]
     },
     "execution_count": 644,
     "metadata": {},
     "output_type": "execute_result"
    }
   ],
   "source": [
    "df_train.head()"
   ]
  },
  {
   "cell_type": "code",
   "execution_count": 645,
   "metadata": {},
   "outputs": [],
   "source": [
    "class_labels = list(df_train.label.unique())\n",
    "lookup_dict = {label:integer for integer, label in enumerate(class_labels)}"
   ]
  },
  {
   "cell_type": "code",
   "execution_count": 646,
   "metadata": {},
   "outputs": [
    {
     "data": {
      "text/plain": [
       "['non-rumor', 'false', 'true', 'unverified']"
      ]
     },
     "execution_count": 646,
     "metadata": {},
     "output_type": "execute_result"
    }
   ],
   "source": [
    "class_labels"
   ]
  },
  {
   "cell_type": "code",
   "execution_count": 647,
   "metadata": {},
   "outputs": [
    {
     "data": {
      "text/plain": [
       "[('non-rumor', 0), ('false', 1), ('true', 2), ('unverified', 3)]"
      ]
     },
     "execution_count": 647,
     "metadata": {},
     "output_type": "execute_result"
    }
   ],
   "source": [
    "list(lookup_dict.items())"
   ]
  },
  {
   "cell_type": "code",
   "execution_count": 648,
   "metadata": {},
   "outputs": [
    {
     "data": {
      "text/plain": [
       "2316"
      ]
     },
     "execution_count": 648,
     "metadata": {},
     "output_type": "execute_result"
    }
   ],
   "source": [
    "len(df_train.in_tweet_idx.unique())"
   ]
  },
  {
   "cell_type": "code",
   "execution_count": 649,
   "metadata": {},
   "outputs": [],
   "source": [
    "# df_train.label"
   ]
  },
  {
   "cell_type": "code",
   "execution_count": 650,
   "metadata": {},
   "outputs": [],
   "source": [
    "# df_test = df_train.groupby(['out_uid']).nunique().loc[:, ['label', 'favourites_count']]\n",
    "# df_test.favourites_count.unique()"
   ]
  },
  {
   "cell_type": "code",
   "execution_count": 651,
   "metadata": {},
   "outputs": [],
   "source": [
    "to_log = ['favourites_count', 'followers_count', 'friends_count', 'statuses_count']\n",
    "for colname in to_log:\n",
    "    df_train.loc[:, colname] = np.log(df_train.loc[:, colname].values + 1)\n",
    "    df_validate.loc[:, colname] = np.log(df_validate.loc[:, colname].values + 1)\n",
    "    df_test.loc[:, colname] = np.log(df_test.loc[:, colname].values + 1)\n",
    "df_train.label = df_train.label.apply(lambda x: lookup_dict[x])\n",
    "df_validate.label = df_validate.label.apply(lambda x: lookup_dict[x])\n",
    "df_test.label = df_test.label.apply(lambda x: lookup_dict[x])"
   ]
  },
  {
   "cell_type": "code",
   "execution_count": 652,
   "metadata": {},
   "outputs": [],
   "source": [
    "# df_train.dtypes"
   ]
  },
  {
   "cell_type": "code",
   "execution_count": 653,
   "metadata": {},
   "outputs": [],
   "source": [
    "def cut_by_latency(df):\n",
    "    df = df.loc[df.latency <= PREDICTION_LATENCY]\n",
    "    return df"
   ]
  },
  {
   "cell_type": "code",
   "execution_count": 654,
   "metadata": {},
   "outputs": [],
   "source": [
    "# df_train = cut_by_latency(df_train)\n",
    "# df_validate = cut_by_latency(df_validate)\n",
    "# df_test = cut_by_latency(df_test)"
   ]
  },
  {
   "cell_type": "markdown",
   "metadata": {},
   "source": [
    "First analysis based on a simple aggregation of the features by root_id\n",
    "- in_tweet -> nunique\n",
    "- latency -> mean\n",
    "- in_uid -> nunique\n",
    "- created_at -> mean\n",
    "- followers_count -> mean\n",
    "- favourites_count -> mean\n",
    "- friends_count -> mean\n",
    "- geo_enabled -> mean\n",
    "- has_description -> mean\n",
    "- statuses_count -> mean\n",
    "- verified -> mean"
   ]
  },
  {
   "cell_type": "code",
   "execution_count": 655,
   "metadata": {},
   "outputs": [
    {
     "data": {
      "text/plain": [
       "Index(['label', 'root_id', 'in_tweet_idx', 'out_tweet_idx', 'latency',\n",
       "       'in_uid', 'out_uid', 'created_at', 'favourites_count',\n",
       "       'followers_count', 'friends_count', 'geo_enabled', 'has_description',\n",
       "       'len_name', 'len_screen_name', 'listed_count', 'statuses_count',\n",
       "       'verified'],\n",
       "      dtype='object')"
      ]
     },
     "execution_count": 655,
     "metadata": {},
     "output_type": "execute_result"
    }
   ],
   "source": [
    "df_train.columns"
   ]
  },
  {
   "cell_type": "code",
   "execution_count": 656,
   "metadata": {},
   "outputs": [],
   "source": [
    "cols_kept = [colname for colname in df_train.columns if colname not in ['len_name', 'len_screen_name', 'listed_count']]\n",
    "# cols_kept"
   ]
  },
  {
   "cell_type": "code",
   "execution_count": 657,
   "metadata": {},
   "outputs": [],
   "source": [
    "count_cols = ['out_tweet_idx', 'out_uid', 'in_tweet_idx', 'in_uid']"
   ]
  },
  {
   "cell_type": "code",
   "execution_count": 658,
   "metadata": {},
   "outputs": [],
   "source": [
    "mean_cols = [colname for colname in cols_kept if (colname not in count_cols and colname !='root_id')]"
   ]
  },
  {
   "cell_type": "code",
   "execution_count": 659,
   "metadata": {},
   "outputs": [
    {
     "data": {
      "text/plain": [
       "[]"
      ]
     },
     "execution_count": 659,
     "metadata": {},
     "output_type": "execute_result"
    }
   ],
   "source": [
    "sum_cols = []\n",
    "sum_cols"
   ]
  },
  {
   "cell_type": "code",
   "execution_count": 660,
   "metadata": {},
   "outputs": [
    {
     "name": "stdout",
     "output_type": "stream",
     "text": [
      "15 10 4 0\n"
     ]
    }
   ],
   "source": [
    "print(len(cols_kept), len(mean_cols), len(count_cols), len(sum_cols))"
   ]
  },
  {
   "cell_type": "code",
   "execution_count": 661,
   "metadata": {},
   "outputs": [],
   "source": [
    "df_train = df_train[cols_kept]\n",
    "df_validate = df_validate[cols_kept]\n",
    "df_test = df_test[cols_kept]"
   ]
  },
  {
   "cell_type": "code",
   "execution_count": 662,
   "metadata": {},
   "outputs": [
    {
     "data": {
      "text/html": [
       "<div>\n",
       "<style scoped>\n",
       "    .dataframe tbody tr th:only-of-type {\n",
       "        vertical-align: middle;\n",
       "    }\n",
       "\n",
       "    .dataframe tbody tr th {\n",
       "        vertical-align: top;\n",
       "    }\n",
       "\n",
       "    .dataframe thead th {\n",
       "        text-align: right;\n",
       "    }\n",
       "</style>\n",
       "<table border=\"1\" class=\"dataframe\">\n",
       "  <thead>\n",
       "    <tr style=\"text-align: right;\">\n",
       "      <th></th>\n",
       "      <th>label</th>\n",
       "      <th>root_id</th>\n",
       "      <th>in_tweet_idx</th>\n",
       "      <th>out_tweet_idx</th>\n",
       "      <th>latency</th>\n",
       "      <th>in_uid</th>\n",
       "      <th>out_uid</th>\n",
       "      <th>created_at</th>\n",
       "      <th>favourites_count</th>\n",
       "      <th>followers_count</th>\n",
       "      <th>friends_count</th>\n",
       "      <th>geo_enabled</th>\n",
       "      <th>has_description</th>\n",
       "      <th>statuses_count</th>\n",
       "      <th>verified</th>\n",
       "    </tr>\n",
       "  </thead>\n",
       "  <tbody>\n",
       "    <tr>\n",
       "      <th>0</th>\n",
       "      <td>0</td>\n",
       "      <td>766358933296517121</td>\n",
       "      <td>0</td>\n",
       "      <td>1</td>\n",
       "      <td>0.22</td>\n",
       "      <td>428333</td>\n",
       "      <td>2513357536</td>\n",
       "      <td>16187.0</td>\n",
       "      <td>12.147172</td>\n",
       "      <td>6.426488</td>\n",
       "      <td>8.327243</td>\n",
       "      <td>0.0</td>\n",
       "      <td>1.0</td>\n",
       "      <td>11.501217</td>\n",
       "      <td>0.0</td>\n",
       "    </tr>\n",
       "    <tr>\n",
       "      <th>1</th>\n",
       "      <td>0</td>\n",
       "      <td>766358933296517121</td>\n",
       "      <td>0</td>\n",
       "      <td>2</td>\n",
       "      <td>0.22</td>\n",
       "      <td>428333</td>\n",
       "      <td>19770652</td>\n",
       "      <td>14274.0</td>\n",
       "      <td>4.330733</td>\n",
       "      <td>6.244167</td>\n",
       "      <td>6.598509</td>\n",
       "      <td>0.0</td>\n",
       "      <td>1.0</td>\n",
       "      <td>6.124683</td>\n",
       "      <td>0.0</td>\n",
       "    </tr>\n",
       "    <tr>\n",
       "      <th>2</th>\n",
       "      <td>0</td>\n",
       "      <td>766358933296517121</td>\n",
       "      <td>0</td>\n",
       "      <td>3</td>\n",
       "      <td>0.23</td>\n",
       "      <td>428333</td>\n",
       "      <td>751437827364229120</td>\n",
       "      <td>15294.0</td>\n",
       "      <td>8.613775</td>\n",
       "      <td>6.045005</td>\n",
       "      <td>6.190315</td>\n",
       "      <td>0.0</td>\n",
       "      <td>0.0</td>\n",
       "      <td>9.496947</td>\n",
       "      <td>0.0</td>\n",
       "    </tr>\n",
       "    <tr>\n",
       "      <th>3</th>\n",
       "      <td>0</td>\n",
       "      <td>766358933296517121</td>\n",
       "      <td>0</td>\n",
       "      <td>4</td>\n",
       "      <td>0.25</td>\n",
       "      <td>428333</td>\n",
       "      <td>137436023</td>\n",
       "      <td>14725.0</td>\n",
       "      <td>8.726481</td>\n",
       "      <td>9.383285</td>\n",
       "      <td>9.388570</td>\n",
       "      <td>1.0</td>\n",
       "      <td>1.0</td>\n",
       "      <td>10.417568</td>\n",
       "      <td>0.0</td>\n",
       "    </tr>\n",
       "    <tr>\n",
       "      <th>4</th>\n",
       "      <td>0</td>\n",
       "      <td>766358933296517121</td>\n",
       "      <td>0</td>\n",
       "      <td>5</td>\n",
       "      <td>0.25</td>\n",
       "      <td>428333</td>\n",
       "      <td>25224705</td>\n",
       "      <td>14322.0</td>\n",
       "      <td>9.817003</td>\n",
       "      <td>9.082393</td>\n",
       "      <td>7.833996</td>\n",
       "      <td>1.0</td>\n",
       "      <td>1.0</td>\n",
       "      <td>10.490746</td>\n",
       "      <td>0.0</td>\n",
       "    </tr>\n",
       "  </tbody>\n",
       "</table>\n",
       "</div>"
      ],
      "text/plain": [
       "   label             root_id  in_tweet_idx  out_tweet_idx  latency  in_uid  \\\n",
       "0      0  766358933296517121             0              1     0.22  428333   \n",
       "1      0  766358933296517121             0              2     0.22  428333   \n",
       "2      0  766358933296517121             0              3     0.23  428333   \n",
       "3      0  766358933296517121             0              4     0.25  428333   \n",
       "4      0  766358933296517121             0              5     0.25  428333   \n",
       "\n",
       "              out_uid  created_at  favourites_count  followers_count  \\\n",
       "0          2513357536     16187.0         12.147172         6.426488   \n",
       "1            19770652     14274.0          4.330733         6.244167   \n",
       "2  751437827364229120     15294.0          8.613775         6.045005   \n",
       "3           137436023     14725.0          8.726481         9.383285   \n",
       "4            25224705     14322.0          9.817003         9.082393   \n",
       "\n",
       "   friends_count  geo_enabled  has_description  statuses_count  verified  \n",
       "0       8.327243          0.0              1.0       11.501217       0.0  \n",
       "1       6.598509          0.0              1.0        6.124683       0.0  \n",
       "2       6.190315          0.0              0.0        9.496947       0.0  \n",
       "3       9.388570          1.0              1.0       10.417568       0.0  \n",
       "4       7.833996          1.0              1.0       10.490746       0.0  "
      ]
     },
     "execution_count": 662,
     "metadata": {},
     "output_type": "execute_result"
    }
   ],
   "source": [
    "df_train.head()"
   ]
  },
  {
   "cell_type": "code",
   "execution_count": 663,
   "metadata": {},
   "outputs": [],
   "source": [
    "def aggregation_v0(df):\n",
    "    aggregations_dict = {name:'sum' for name in sum_cols}\n",
    "    aggregations_dict.update({name: 'mean' for name in mean_cols})\n",
    "    aggregations_dict.update({name: 'nunique' for name in count_cols})\n",
    "    aggregated_data = df.groupby('root_id').agg(aggregations_dict)\n",
    "    aggregated_data = aggregated_data.reset_index()\n",
    "#     aggregated_data = aggregated_data.drop(columns='root_id')\n",
    "    return aggregated_data"
   ]
  },
  {
   "cell_type": "markdown",
   "metadata": {},
   "source": [
    "### We aggregate the features as planned and fit a GB with Decision Trees model, evaluate its ROC-AUC perf on val"
   ]
  },
  {
   "cell_type": "code",
   "execution_count": 664,
   "metadata": {},
   "outputs": [],
   "source": [
    "df_train = aggregation_v0(df_train)\n",
    "df_validate = aggregation_v0(df_validate)\n",
    "df_test = aggregation_v0(df_test)"
   ]
  },
  {
   "cell_type": "code",
   "execution_count": 665,
   "metadata": {},
   "outputs": [
    {
     "data": {
      "text/plain": [
       "1002"
      ]
     },
     "execution_count": 665,
     "metadata": {},
     "output_type": "execute_result"
    }
   ],
   "source": [
    "len(df_train)"
   ]
  },
  {
   "cell_type": "code",
   "execution_count": 666,
   "metadata": {},
   "outputs": [
    {
     "data": {
      "text/html": [
       "<div>\n",
       "<style scoped>\n",
       "    .dataframe tbody tr th:only-of-type {\n",
       "        vertical-align: middle;\n",
       "    }\n",
       "\n",
       "    .dataframe tbody tr th {\n",
       "        vertical-align: top;\n",
       "    }\n",
       "\n",
       "    .dataframe thead th {\n",
       "        text-align: right;\n",
       "    }\n",
       "</style>\n",
       "<table border=\"1\" class=\"dataframe\">\n",
       "  <thead>\n",
       "    <tr style=\"text-align: right;\">\n",
       "      <th></th>\n",
       "      <th>root_id</th>\n",
       "      <th>label</th>\n",
       "      <th>latency</th>\n",
       "      <th>created_at</th>\n",
       "      <th>favourites_count</th>\n",
       "      <th>followers_count</th>\n",
       "      <th>friends_count</th>\n",
       "      <th>geo_enabled</th>\n",
       "      <th>has_description</th>\n",
       "      <th>statuses_count</th>\n",
       "      <th>verified</th>\n",
       "      <th>out_tweet_idx</th>\n",
       "      <th>out_uid</th>\n",
       "      <th>in_tweet_idx</th>\n",
       "      <th>in_uid</th>\n",
       "    </tr>\n",
       "  </thead>\n",
       "  <tbody>\n",
       "    <tr>\n",
       "      <th>0</th>\n",
       "      <td>80080680482123777</td>\n",
       "      <td>1</td>\n",
       "      <td>90.784400</td>\n",
       "      <td>14454.830000</td>\n",
       "      <td>6.930201</td>\n",
       "      <td>6.397433</td>\n",
       "      <td>6.380664</td>\n",
       "      <td>0.590000</td>\n",
       "      <td>0.840000</td>\n",
       "      <td>9.179843</td>\n",
       "      <td>0.020000</td>\n",
       "      <td>100</td>\n",
       "      <td>100</td>\n",
       "      <td>4</td>\n",
       "      <td>4</td>\n",
       "    </tr>\n",
       "    <tr>\n",
       "      <th>1</th>\n",
       "      <td>265953285247209472</td>\n",
       "      <td>1</td>\n",
       "      <td>129.383223</td>\n",
       "      <td>14736.184834</td>\n",
       "      <td>7.759638</td>\n",
       "      <td>5.495381</td>\n",
       "      <td>6.067609</td>\n",
       "      <td>0.540284</td>\n",
       "      <td>0.772512</td>\n",
       "      <td>8.814724</td>\n",
       "      <td>0.018957</td>\n",
       "      <td>211</td>\n",
       "      <td>211</td>\n",
       "      <td>7</td>\n",
       "      <td>7</td>\n",
       "    </tr>\n",
       "    <tr>\n",
       "      <th>2</th>\n",
       "      <td>295152287901417472</td>\n",
       "      <td>2</td>\n",
       "      <td>460.343366</td>\n",
       "      <td>15221.970297</td>\n",
       "      <td>7.708395</td>\n",
       "      <td>6.780317</td>\n",
       "      <td>6.337940</td>\n",
       "      <td>0.485149</td>\n",
       "      <td>0.742574</td>\n",
       "      <td>9.897010</td>\n",
       "      <td>0.000000</td>\n",
       "      <td>101</td>\n",
       "      <td>101</td>\n",
       "      <td>4</td>\n",
       "      <td>4</td>\n",
       "    </tr>\n",
       "    <tr>\n",
       "      <th>3</th>\n",
       "      <td>295944137948151809</td>\n",
       "      <td>1</td>\n",
       "      <td>2326.193416</td>\n",
       "      <td>15043.471537</td>\n",
       "      <td>7.993260</td>\n",
       "      <td>6.008538</td>\n",
       "      <td>5.872666</td>\n",
       "      <td>0.605313</td>\n",
       "      <td>0.727704</td>\n",
       "      <td>9.530526</td>\n",
       "      <td>0.001898</td>\n",
       "      <td>1053</td>\n",
       "      <td>1053</td>\n",
       "      <td>158</td>\n",
       "      <td>158</td>\n",
       "    </tr>\n",
       "    <tr>\n",
       "      <th>4</th>\n",
       "      <td>318263294098030593</td>\n",
       "      <td>1</td>\n",
       "      <td>1390.860437</td>\n",
       "      <td>15151.487624</td>\n",
       "      <td>7.827639</td>\n",
       "      <td>5.801351</td>\n",
       "      <td>5.578781</td>\n",
       "      <td>0.570132</td>\n",
       "      <td>0.710396</td>\n",
       "      <td>9.302484</td>\n",
       "      <td>0.000825</td>\n",
       "      <td>1212</td>\n",
       "      <td>1212</td>\n",
       "      <td>189</td>\n",
       "      <td>189</td>\n",
       "    </tr>\n",
       "  </tbody>\n",
       "</table>\n",
       "</div>"
      ],
      "text/plain": [
       "              root_id  label      latency    created_at  favourites_count  \\\n",
       "0   80080680482123777      1    90.784400  14454.830000          6.930201   \n",
       "1  265953285247209472      1   129.383223  14736.184834          7.759638   \n",
       "2  295152287901417472      2   460.343366  15221.970297          7.708395   \n",
       "3  295944137948151809      1  2326.193416  15043.471537          7.993260   \n",
       "4  318263294098030593      1  1390.860437  15151.487624          7.827639   \n",
       "\n",
       "   followers_count  friends_count  geo_enabled  has_description  \\\n",
       "0         6.397433       6.380664     0.590000         0.840000   \n",
       "1         5.495381       6.067609     0.540284         0.772512   \n",
       "2         6.780317       6.337940     0.485149         0.742574   \n",
       "3         6.008538       5.872666     0.605313         0.727704   \n",
       "4         5.801351       5.578781     0.570132         0.710396   \n",
       "\n",
       "   statuses_count  verified  out_tweet_idx  out_uid  in_tweet_idx  in_uid  \n",
       "0        9.179843  0.020000            100      100             4       4  \n",
       "1        8.814724  0.018957            211      211             7       7  \n",
       "2        9.897010  0.000000            101      101             4       4  \n",
       "3        9.530526  0.001898           1053     1053           158     158  \n",
       "4        9.302484  0.000825           1212     1212           189     189  "
      ]
     },
     "execution_count": 666,
     "metadata": {},
     "output_type": "execute_result"
    }
   ],
   "source": [
    "df_train.head()"
   ]
  },
  {
   "cell_type": "code",
   "execution_count": 667,
   "metadata": {},
   "outputs": [],
   "source": [
    "def binned_plot(data, feature_col, target_col, nquantiles=5):\n",
    "    feature_vals = data.loc[:, feature_col].values\n",
    "    target_vals = data.loc[:, target_col].values\n",
    "    quantiles_to_compute = np.linspace(0, 1, num=nquantiles+2)\n",
    "    bin_edges = np.quantile(feature_vals, q=quantiles_to_compute)\n",
    "    nx, _ = np.histogram(feature_vals, bins=bin_edges)\n",
    "    sum_x, _ = np.histogram(feature_vals, bins=bin_edges, weights=feature_vals)\n",
    "    sum_y, _ = np.histogram(feature_vals, bins=bin_edges, weights=target_vals)\n",
    "    plt.plot(sum_x / nx, sum_y/nx, color='black')\n",
    "    plt.xlabel('Feature {}'.format(feature_col))\n",
    "    plt.ylabel('Target mean')\n",
    "    plt.ylim(target_vals.min(), target_vals.max())\n",
    "    plt.grid()\n",
    "    plt.show()\n",
    "    plt.close()"
   ]
  },
  {
   "cell_type": "code",
   "execution_count": 668,
   "metadata": {},
   "outputs": [],
   "source": [
    "import lightgbm as lgb\n",
    "from sklearn.metrics import f1_score, accuracy_score"
   ]
  },
  {
   "cell_type": "code",
   "execution_count": 669,
   "metadata": {},
   "outputs": [],
   "source": [
    "dataset = lgb.Dataset(df_train.drop(columns='root_id').iloc[:, 1:], label=df_train.label)\n",
    "dataset.construct()\n",
    "params = {\n",
    "    'objective':'multiclass',\n",
    "    'num_class':4,\n",
    "    'bagging_freq':5,\n",
    "    'feature_fraction':1.0,\n",
    "    'boosting_type':'gbdt',\n",
    "    'max_depth':5,\n",
    "    'learning_rate':0.005, # range tested is 0.001, 0.01, 0.005\n",
    "    'n_estimators':2000,# range tested is 1000, 2000\n",
    "    'verbosity':2\n",
    "    }\n",
    "\n",
    "gbm_model = lgb.train(params, train_set=dataset)"
   ]
  },
  {
   "cell_type": "code",
   "execution_count": 670,
   "metadata": {},
   "outputs": [],
   "source": [
    "def return_accuracy(data, model):\n",
    "    preds = model.predict(data.drop(columns='root_id').iloc[:, 1:], raw_score=False).argmax(1)\n",
    "    return accuracy_score(data.label.values, preds)"
   ]
  },
  {
   "cell_type": "code",
   "execution_count": 671,
   "metadata": {},
   "outputs": [
    {
     "name": "stdout",
     "output_type": "stream",
     "text": [
      "LighGBM_user, twitter15, 0.005, 2000, 0.9621, 0.6284, 0.6280\n"
     ]
    }
   ],
   "source": [
    "print(f\"LighGBM_user, {exp_name}, {params['learning_rate']}, {params['n_estimators']}, {return_accuracy(df_train, gbm_model):.4f}, {return_accuracy(df_validate, gbm_model):.4f}, {return_accuracy(df_test, gbm_model):.4f}\")"
   ]
  },
  {
   "cell_type": "code",
   "execution_count": 672,
   "metadata": {},
   "outputs": [
    {
     "data": {
      "text/plain": [
       "<matplotlib.axes._subplots.AxesSubplot at 0x7f25920d0110>"
      ]
     },
     "execution_count": 672,
     "metadata": {},
     "output_type": "execute_result"
    },
    {
     "data": {
      "image/png": "[encoded data removed]",
      "text/plain": [
       "<Figure size 432x288 with 1 Axes>"
      ]
     },
     "metadata": {
      "needs_background": "light"
     },
     "output_type": "display_data"
    }
   ],
   "source": [
    "lgb.plot_importance(gbm_model)"
   ]
  },
  {
   "cell_type": "markdown",
   "metadata": {},
   "source": [
    "### Text features from MLP"
   ]
  },
  {
   "cell_type": "code",
   "execution_count": 673,
   "metadata": {},
   "outputs": [],
   "source": [
    "import torch\n",
    "import torch.nn as nn"
   ]
  },
  {
   "cell_type": "code",
   "execution_count": 674,
   "metadata": {},
   "outputs": [
    {
     "name": "stdout",
     "output_type": "stream",
     "text": [
      "Considering 4 classes problem\n",
      "We consider tweets emitted no later than 10000mins after the root tweet\n",
      "Features that will be considered: text_only\n",
      "Len train/val/test 1005 149 336\n",
      "Oversampling...\n",
      "Before oversampling: 1490 trees, 1005 train trees\n",
      "After oversampling: 1490 trees, 1005 train trees\n",
      "Dataset loaded in 73.499s\n"
     ]
    }
   ],
   "source": [
    "data_builder = ds.DatasetBuilder(exp_name, time_cutoff=CUTOFF, features_to_consider='text_only')\n",
    "dataset = data_builder.create_dataset(dataset_type=\"raw\", standardize_features=False)"
   ]
  },
  {
   "cell_type": "code",
   "execution_count": 675,
   "metadata": {},
   "outputs": [],
   "source": [
    "def to_dataset(raw_dt):\n",
    "    mlp_data = [tree[0] for tree in raw_dt if len(tree)]\n",
    "    mlp_data = np.stack([np.array([dp[1], lookup_dict[dp[0]]] + dp[7:]) for dp in mlp_data])\n",
    "    return mlp_data"
   ]
  },
  {
   "cell_type": "code",
   "execution_count": 676,
   "metadata": {},
   "outputs": [],
   "source": [
    "train_mlp = to_dataset(dataset['train'])\n",
    "val_mlp = to_dataset(dataset['val'])\n",
    "test_mlp = to_dataset(dataset['test'])"
   ]
  },
  {
   "cell_type": "code",
   "execution_count": 677,
   "metadata": {},
   "outputs": [
    {
     "data": {
      "text/plain": [
       "array([0., 1., 2., 3.])"
      ]
     },
     "execution_count": 677,
     "metadata": {},
     "output_type": "execute_result"
    }
   ],
   "source": [
    "np.unique(train_mlp[:, 1])"
   ]
  },
  {
   "cell_type": "code",
   "execution_count": 678,
   "metadata": {},
   "outputs": [],
   "source": [
    "n_hidden_layers = 3\n",
    "hidden_size = 24\n",
    "batch_size = 64\n",
    "lr = 0.0005\n",
    "# dropout_prob =0.5\n",
    "n_epochs = 500 if exp_name == 'twitter15' else 100"
   ]
  },
  {
   "cell_type": "code",
   "execution_count": 679,
   "metadata": {},
   "outputs": [],
   "source": [
    "device='cuda' if torch.cuda.is_available() else 'cpu'"
   ]
  },
  {
   "cell_type": "code",
   "execution_count": 680,
   "metadata": {},
   "outputs": [],
   "source": [
    "model_seq = []\n",
    "model_seq.append(nn.Linear(in_features=768, out_features=hidden_size))\n",
    "for _ in range(n_hidden_layers):\n",
    "#     model_seq.append(nn.Dropout(dropout_prob))\n",
    "    model_seq.append(nn.Linear(in_features=hidden_size, out_features=hidden_size))\n",
    "model_seq.append(nn.Linear(in_features=hidden_size, out_features=4))\n",
    "mlp = nn.Sequential(*model_seq)\n",
    "mlp = mlp.to(device)"
   ]
  },
  {
   "cell_type": "code",
   "execution_count": 681,
   "metadata": {},
   "outputs": [],
   "source": [
    "optim = torch.optim.Adam(mlp.parameters(), lr=lr) #[param for name, param in mlp.named_parameters()]"
   ]
  },
  {
   "cell_type": "code",
   "execution_count": 682,
   "metadata": {},
   "outputs": [],
   "source": [
    "train_loader = torch.utils.data.DataLoader(train_mlp[:, 1:], batch_size=batch_size, shuffle=True)\n",
    "val_loader = torch.utils.data.DataLoader(val_mlp[:, 1:], batch_size=batch_size, shuffle=True)\n",
    "test_loader = torch.utils.data.DataLoader(test_mlp[:, 1:], batch_size=batch_size, shuffle=True)"
   ]
  },
  {
   "cell_type": "code",
   "execution_count": 683,
   "metadata": {},
   "outputs": [],
   "source": [
    "def eval_loader(model, loader):\n",
    "    model.eval()\n",
    "    correct = 0\n",
    "    total = 0\n",
    "    with torch.no_grad():\n",
    "        for dp in loader:\n",
    "            y = dp[:, 0].to(device).long()\n",
    "            x = dp[:, 1:].to(device).float()\n",
    "            logits = mlp(x)\n",
    "            _, preds = logits.max(dim=1)\n",
    "            correct += float(preds.eq(y).sum().item())\n",
    "            total += y.size(0)\n",
    "    return correct / total"
   ]
  },
  {
   "cell_type": "code",
   "execution_count": 684,
   "metadata": {},
   "outputs": [
    {
     "name": "stdout",
     "output_type": "stream",
     "text": [
      "Epoch 100: Mean Loss = 0.437\n",
      "Accuracy Epoch 100 on Val: 0.561\n",
      "Epoch 200: Mean Loss = 0.145\n",
      "Accuracy Epoch 200 on Val: 0.541\n",
      "Epoch 300: Mean Loss = 0.138\n",
      "Accuracy Epoch 300 on Val: 0.568\n",
      "Epoch 400: Mean Loss = 0.139\n",
      "Accuracy Epoch 400 on Val: 0.561\n",
      "Epoch 500: Mean Loss = 0.139\n",
      "Accuracy Epoch 500 on Val: 0.568\n"
     ]
    }
   ],
   "source": [
    "loss_func = nn.CrossEntropyLoss(reduction='mean')\n",
    "for epoch in range(n_epochs):\n",
    "    epoch_loss = 0.\n",
    "    \n",
    "    #TRAIN\n",
    "    mlp.train()\n",
    "    for dp in train_loader:\n",
    "        y = dp[:, 0].to(device).long()\n",
    "        x = dp[:, 1:].to(device).float()\n",
    "        logits = mlp(x)\n",
    "\n",
    "        \n",
    "        loss = loss_func(logits, y)\n",
    "        \n",
    "        optim.zero_grad()\n",
    "        loss.backward()\n",
    "        optim.step()\n",
    "        \n",
    "        epoch_loss += loss.item()\n",
    "    \n",
    "    if (epoch+1) % 100 == 0:\n",
    "        print(f\"Epoch {epoch+1}: Mean Loss = {epoch_loss/len(train_loader):.3f}\")\n",
    "        \n",
    "    \n",
    "    #EVAL\n",
    "    if (epoch+1) % 100 == 0:\n",
    "        print(f\"Accuracy Epoch {epoch+1} on Val: {eval_loader(mlp, val_loader):.3f}\")"
   ]
  },
  {
   "cell_type": "code",
   "execution_count": 685,
   "metadata": {},
   "outputs": [
    {
     "name": "stdout",
     "output_type": "stream",
     "text": [
      "MLPtext, twitter15, 500, 64, 0.0005, 24, 3, 0.9311, 0.5676, 0.5357\n"
     ]
    }
   ],
   "source": [
    "print(f\"MLPtext, {exp_name}, {n_epochs}, {batch_size}, {lr}, {hidden_size}, {n_hidden_layers}, {eval_loader(mlp, train_loader):.4f}, {eval_loader(mlp, val_loader):.4f}, {eval_loader(mlp, test_loader):.4f}\")"
   ]
  },
  {
   "cell_type": "markdown",
   "metadata": {},
   "source": [
    "### SEIZ features"
   ]
  },
  {
   "cell_type": "code",
   "execution_count": 686,
   "metadata": {},
   "outputs": [],
   "source": [
    "seiz_train = pd.read_csv(f'seiz_dataset_{exp_name}.csv')\n",
    "seiz_val = pd.read_csv(f\"seiz_dataset_{exp_name}_val.csv\")\n",
    "seiz_test = pd.read_csv(f\"seiz_dataset_{exp_name}_test.csv\")"
   ]
  },
  {
   "cell_type": "code",
   "execution_count": 687,
   "metadata": {},
   "outputs": [],
   "source": [
    "init_pops = ['S0', 'E0', 'I0', 'Z0']\n",
    "def transform_seiz_data(input_data):\n",
    "    #Computing R score\n",
    "    df = input_data.copy()\n",
    "    p = df.p.values\n",
    "    beta = df.beta.values\n",
    "    l = df.l.values\n",
    "    rho = df.rho.values\n",
    "    epsilon = df.epsilon.values\n",
    "    b = df.b.values\n",
    "    df['R'] = ((1 - p) * beta + (1 - l) * b) / (rho + epsilon)\n",
    "    # Normalizing population columns\n",
    "    df['N'] = df[init_pops].values.sum(1)\n",
    "    for col in init_pops:\n",
    "        df[col] = df[col].values / df['N'].values\n",
    "    df = df.drop(columns='N')\n",
    "    #Incubation time is relevant\n",
    "    df['incubation_time'] = 1 / df.epsilon.values\n",
    "    #Encode target as category for lightgbm\n",
    "    df.label = df.label.apply(lambda x: lookup_dict[x])\n",
    "    df = df.rename(columns={'ID':'root_id'})\n",
    "    return df"
   ]
  },
  {
   "cell_type": "code",
   "execution_count": 688,
   "metadata": {},
   "outputs": [],
   "source": [
    "seiz_train = transform_seiz_data(seiz_train)\n",
    "seiz_val = transform_seiz_data(seiz_val)\n",
    "seiz_test = transform_seiz_data(seiz_test)"
   ]
  },
  {
   "cell_type": "code",
   "execution_count": 689,
   "metadata": {},
   "outputs": [
    {
     "data": {
      "text/html": [
       "<div>\n",
       "<style scoped>\n",
       "    .dataframe tbody tr th:only-of-type {\n",
       "        vertical-align: middle;\n",
       "    }\n",
       "\n",
       "    .dataframe tbody tr th {\n",
       "        vertical-align: top;\n",
       "    }\n",
       "\n",
       "    .dataframe thead th {\n",
       "        text-align: right;\n",
       "    }\n",
       "</style>\n",
       "<table border=\"1\" class=\"dataframe\">\n",
       "  <thead>\n",
       "    <tr style=\"text-align: right;\">\n",
       "      <th></th>\n",
       "      <th>label</th>\n",
       "      <th>root_id</th>\n",
       "      <th>beta</th>\n",
       "      <th>b</th>\n",
       "      <th>rho</th>\n",
       "      <th>epsilon</th>\n",
       "      <th>l</th>\n",
       "      <th>p</th>\n",
       "      <th>S0</th>\n",
       "      <th>E0</th>\n",
       "      <th>I0</th>\n",
       "      <th>Z0</th>\n",
       "      <th>RMSE_fit</th>\n",
       "      <th>R</th>\n",
       "      <th>incubation_time</th>\n",
       "    </tr>\n",
       "  </thead>\n",
       "  <tbody>\n",
       "    <tr>\n",
       "      <th>0</th>\n",
       "      <td>0</td>\n",
       "      <td>766358933296517121</td>\n",
       "      <td>1.184614e-08</td>\n",
       "      <td>2.919292e-02</td>\n",
       "      <td>0.000009</td>\n",
       "      <td>0.133782</td>\n",
       "      <td>0.274173</td>\n",
       "      <td>2.377177e-01</td>\n",
       "      <td>0.047004</td>\n",
       "      <td>0.030854</td>\n",
       "      <td>0.000757</td>\n",
       "      <td>0.921385</td>\n",
       "      <td>6.027130</td>\n",
       "      <td>0.158374</td>\n",
       "      <td>7.474838</td>\n",
       "    </tr>\n",
       "    <tr>\n",
       "      <th>1</th>\n",
       "      <td>1</td>\n",
       "      <td>516636338679197697</td>\n",
       "      <td>4.486586e-02</td>\n",
       "      <td>2.815412e-19</td>\n",
       "      <td>0.999991</td>\n",
       "      <td>0.022433</td>\n",
       "      <td>0.994876</td>\n",
       "      <td>8.552127e-09</td>\n",
       "      <td>0.234612</td>\n",
       "      <td>0.154795</td>\n",
       "      <td>0.003754</td>\n",
       "      <td>0.606840</td>\n",
       "      <td>2.371241</td>\n",
       "      <td>0.043882</td>\n",
       "      <td>44.576673</td>\n",
       "    </tr>\n",
       "    <tr>\n",
       "      <th>2</th>\n",
       "      <td>1</td>\n",
       "      <td>532007252677656576</td>\n",
       "      <td>4.729451e-02</td>\n",
       "      <td>2.151658e-02</td>\n",
       "      <td>1.000000</td>\n",
       "      <td>0.047094</td>\n",
       "      <td>0.570550</td>\n",
       "      <td>9.458806e-01</td>\n",
       "      <td>0.572296</td>\n",
       "      <td>0.245931</td>\n",
       "      <td>0.004174</td>\n",
       "      <td>0.177599</td>\n",
       "      <td>2.485369</td>\n",
       "      <td>0.011269</td>\n",
       "      <td>21.234216</td>\n",
       "    </tr>\n",
       "    <tr>\n",
       "      <th>3</th>\n",
       "      <td>2</td>\n",
       "      <td>514109888138842113</td>\n",
       "      <td>9.995275e-01</td>\n",
       "      <td>1.902343e-01</td>\n",
       "      <td>0.008715</td>\n",
       "      <td>0.010761</td>\n",
       "      <td>0.987966</td>\n",
       "      <td>9.617912e-01</td>\n",
       "      <td>0.255202</td>\n",
       "      <td>0.003802</td>\n",
       "      <td>0.000462</td>\n",
       "      <td>0.740534</td>\n",
       "      <td>1.413663</td>\n",
       "      <td>2.078515</td>\n",
       "      <td>92.932122</td>\n",
       "    </tr>\n",
       "    <tr>\n",
       "      <th>4</th>\n",
       "      <td>3</td>\n",
       "      <td>724348906096590849</td>\n",
       "      <td>4.579414e-07</td>\n",
       "      <td>2.269379e-02</td>\n",
       "      <td>0.347807</td>\n",
       "      <td>0.119594</td>\n",
       "      <td>0.423954</td>\n",
       "      <td>2.723150e-01</td>\n",
       "      <td>0.054405</td>\n",
       "      <td>0.021872</td>\n",
       "      <td>0.000173</td>\n",
       "      <td>0.923550</td>\n",
       "      <td>2.093939</td>\n",
       "      <td>0.027970</td>\n",
       "      <td>8.361631</td>\n",
       "    </tr>\n",
       "  </tbody>\n",
       "</table>\n",
       "</div>"
      ],
      "text/plain": [
       "   label             root_id          beta             b       rho   epsilon  \\\n",
       "0      0  766358933296517121  1.184614e-08  2.919292e-02  0.000009  0.133782   \n",
       "1      1  516636338679197697  4.486586e-02  2.815412e-19  0.999991  0.022433   \n",
       "2      1  532007252677656576  4.729451e-02  2.151658e-02  1.000000  0.047094   \n",
       "3      2  514109888138842113  9.995275e-01  1.902343e-01  0.008715  0.010761   \n",
       "4      3  724348906096590849  4.579414e-07  2.269379e-02  0.347807  0.119594   \n",
       "\n",
       "          l             p        S0        E0        I0        Z0  RMSE_fit  \\\n",
       "0  0.274173  2.377177e-01  0.047004  0.030854  0.000757  0.921385  6.027130   \n",
       "1  0.994876  8.552127e-09  0.234612  0.154795  0.003754  0.606840  2.371241   \n",
       "2  0.570550  9.458806e-01  0.572296  0.245931  0.004174  0.177599  2.485369   \n",
       "3  0.987966  9.617912e-01  0.255202  0.003802  0.000462  0.740534  1.413663   \n",
       "4  0.423954  2.723150e-01  0.054405  0.021872  0.000173  0.923550  2.093939   \n",
       "\n",
       "          R  incubation_time  \n",
       "0  0.158374         7.474838  \n",
       "1  0.043882        44.576673  \n",
       "2  0.011269        21.234216  \n",
       "3  2.078515        92.932122  \n",
       "4  0.027970         8.361631  "
      ]
     },
     "execution_count": 689,
     "metadata": {},
     "output_type": "execute_result"
    }
   ],
   "source": [
    "seiz_train.head()"
   ]
  },
  {
   "cell_type": "code",
   "execution_count": 690,
   "metadata": {},
   "outputs": [],
   "source": [
    "dataset_seiz = lgb.Dataset(seiz_train.iloc[:, 1:].drop(columns='root_id'), label=seiz_train.label)\n",
    "dataset_seiz.construct()\n",
    "params_seiz = {\n",
    "    'objective':'multiclass',\n",
    "    'num_class':4,\n",
    "    'bagging_freq':5,\n",
    "    'feature_fraction':1.0,\n",
    "    'boosting_type':'gbdt',\n",
    "    'max_depth':5,\n",
    "    'learning_rate':0.001, # range tested is 0.001, 0.01, 0.005\n",
    "    'n_estimators':2000,# range tested is 1000, 2000\n",
    "    'verbosity':2\n",
    "    }\n",
    "gbm_model_seiz = lgb.train(params_seiz, train_set=dataset_seiz)"
   ]
  },
  {
   "cell_type": "code",
   "execution_count": 691,
   "metadata": {},
   "outputs": [
    {
     "name": "stdout",
     "output_type": "stream",
     "text": [
      "LighGBM_seiz, twitter15, 0.001, 2000, 0.6724, 0.4122, 0.3604\n"
     ]
    }
   ],
   "source": [
    "print(f\"LighGBM_seiz, {exp_name}, {params_seiz['learning_rate']}, {params_seiz['n_estimators']}, {return_accuracy(seiz_train, gbm_model_seiz):.4f}, {return_accuracy(seiz_val, gbm_model_seiz):.4f}, {return_accuracy(seiz_test, gbm_model_seiz):.4f}\")"
   ]
  },
  {
   "cell_type": "markdown",
   "metadata": {},
   "source": [
    "### Ensemble model"
   ]
  },
  {
   "cell_type": "code",
   "execution_count": 692,
   "metadata": {},
   "outputs": [],
   "source": [
    "def seiz_and_user_to_ensemble_dataset(model_seiz, model_user, input_data_user, input_data_seiz):\n",
    "    preds_user = pd.DataFrame(model_user.predict(input_data_user.drop(columns='root_id').iloc[:, 1:], raw_score=True))\n",
    "    preds_user.columns = ['user'+str(col) for col in preds_user.columns]\n",
    "    preds_user = preds_user.join(input_data_user.root_id)\n",
    "    preds_seiz = pd.DataFrame(model_seiz.predict(input_data_seiz.drop(columns='root_id').iloc[:, 1:], raw_score=True))\n",
    "    preds_seiz.columns = ['seiz'+str(col) for col in preds_seiz.columns]\n",
    "    preds_seiz = preds_seiz.join(input_data_seiz.root_id)\n",
    "    return input_data_user.loc[:, ['label', 'root_id']].merge(preds_user, how='inner', on='root_id').merge(preds_seiz, how='inner', on='root_id')"
   ]
  },
  {
   "cell_type": "code",
   "execution_count": 693,
   "metadata": {},
   "outputs": [],
   "source": [
    "train_full = seiz_and_user_to_ensemble_dataset(gbm_model_seiz, gbm_model, df_train, seiz_train)\n",
    "val_full = seiz_and_user_to_ensemble_dataset(gbm_model_seiz, gbm_model, df_validate, seiz_val)\n",
    "test_full = seiz_and_user_to_ensemble_dataset(gbm_model_seiz, gbm_model, df_test, seiz_test)"
   ]
  },
  {
   "cell_type": "code",
   "execution_count": 694,
   "metadata": {},
   "outputs": [
    {
     "data": {
      "text/html": [
       "<div>\n",
       "<style scoped>\n",
       "    .dataframe tbody tr th:only-of-type {\n",
       "        vertical-align: middle;\n",
       "    }\n",
       "\n",
       "    .dataframe tbody tr th {\n",
       "        vertical-align: top;\n",
       "    }\n",
       "\n",
       "    .dataframe thead th {\n",
       "        text-align: right;\n",
       "    }\n",
       "</style>\n",
       "<table border=\"1\" class=\"dataframe\">\n",
       "  <thead>\n",
       "    <tr style=\"text-align: right;\">\n",
       "      <th></th>\n",
       "      <th>label</th>\n",
       "      <th>root_id</th>\n",
       "      <th>user0</th>\n",
       "      <th>user1</th>\n",
       "      <th>user2</th>\n",
       "      <th>user3</th>\n",
       "      <th>seiz0</th>\n",
       "      <th>seiz1</th>\n",
       "      <th>seiz2</th>\n",
       "      <th>seiz3</th>\n",
       "    </tr>\n",
       "  </thead>\n",
       "  <tbody>\n",
       "    <tr>\n",
       "      <th>0</th>\n",
       "      <td>1</td>\n",
       "      <td>80080680482123777</td>\n",
       "      <td>-6.747346</td>\n",
       "      <td>-0.156959</td>\n",
       "      <td>-0.563364</td>\n",
       "      <td>-2.332715</td>\n",
       "      <td>-2.551854</td>\n",
       "      <td>-1.355474</td>\n",
       "      <td>-1.129595</td>\n",
       "      <td>-1.225254</td>\n",
       "    </tr>\n",
       "    <tr>\n",
       "      <th>1</th>\n",
       "      <td>1</td>\n",
       "      <td>265953285247209472</td>\n",
       "      <td>-6.387118</td>\n",
       "      <td>0.025079</td>\n",
       "      <td>-0.636408</td>\n",
       "      <td>-2.499793</td>\n",
       "      <td>-0.989461</td>\n",
       "      <td>-1.000756</td>\n",
       "      <td>-1.886361</td>\n",
       "      <td>-1.267210</td>\n",
       "    </tr>\n",
       "    <tr>\n",
       "      <th>2</th>\n",
       "      <td>2</td>\n",
       "      <td>295152287901417472</td>\n",
       "      <td>-6.267525</td>\n",
       "      <td>-0.978583</td>\n",
       "      <td>0.025178</td>\n",
       "      <td>-1.632125</td>\n",
       "      <td>-2.084975</td>\n",
       "      <td>-1.115194</td>\n",
       "      <td>-0.927093</td>\n",
       "      <td>-1.404249</td>\n",
       "    </tr>\n",
       "    <tr>\n",
       "      <th>3</th>\n",
       "      <td>1</td>\n",
       "      <td>295944137948151809</td>\n",
       "      <td>-4.647596</td>\n",
       "      <td>0.854712</td>\n",
       "      <td>-1.911327</td>\n",
       "      <td>-3.555474</td>\n",
       "      <td>-0.826643</td>\n",
       "      <td>-1.418556</td>\n",
       "      <td>-1.732408</td>\n",
       "      <td>-1.819169</td>\n",
       "    </tr>\n",
       "    <tr>\n",
       "      <th>4</th>\n",
       "      <td>1</td>\n",
       "      <td>318263294098030593</td>\n",
       "      <td>-5.753547</td>\n",
       "      <td>0.261192</td>\n",
       "      <td>-1.811476</td>\n",
       "      <td>-3.542211</td>\n",
       "      <td>-0.775416</td>\n",
       "      <td>-1.430715</td>\n",
       "      <td>-1.290064</td>\n",
       "      <td>-2.473437</td>\n",
       "    </tr>\n",
       "  </tbody>\n",
       "</table>\n",
       "</div>"
      ],
      "text/plain": [
       "   label             root_id     user0     user1     user2     user3  \\\n",
       "0      1   80080680482123777 -6.747346 -0.156959 -0.563364 -2.332715   \n",
       "1      1  265953285247209472 -6.387118  0.025079 -0.636408 -2.499793   \n",
       "2      2  295152287901417472 -6.267525 -0.978583  0.025178 -1.632125   \n",
       "3      1  295944137948151809 -4.647596  0.854712 -1.911327 -3.555474   \n",
       "4      1  318263294098030593 -5.753547  0.261192 -1.811476 -3.542211   \n",
       "\n",
       "      seiz0     seiz1     seiz2     seiz3  \n",
       "0 -2.551854 -1.355474 -1.129595 -1.225254  \n",
       "1 -0.989461 -1.000756 -1.886361 -1.267210  \n",
       "2 -2.084975 -1.115194 -0.927093 -1.404249  \n",
       "3 -0.826643 -1.418556 -1.732408 -1.819169  \n",
       "4 -0.775416 -1.430715 -1.290064 -2.473437  "
      ]
     },
     "execution_count": 694,
     "metadata": {},
     "output_type": "execute_result"
    }
   ],
   "source": [
    "train_full.head()"
   ]
  },
  {
   "cell_type": "code",
   "execution_count": 695,
   "metadata": {},
   "outputs": [
    {
     "data": {
      "text/plain": [
       "(995, 1002, 995)"
      ]
     },
     "execution_count": 695,
     "metadata": {},
     "output_type": "execute_result"
    }
   ],
   "source": [
    "len(train_full), len(df_train), len(seiz_train)"
   ]
  },
  {
   "cell_type": "code",
   "execution_count": 696,
   "metadata": {},
   "outputs": [],
   "source": [
    "dataset_full = lgb.Dataset(train_full.drop(columns='root_id').iloc[:, 1:], label=train_full.label)\n",
    "dataset_full.construct()\n",
    "params_full = {\n",
    "    'objective':'multiclass',\n",
    "    'num_class':4,\n",
    "    'bagging_freq':5,\n",
    "    'feature_fraction':1.0,\n",
    "    'boosting_type':'gbdt',\n",
    "    'max_depth':5,\n",
    "    'learning_rate':0.0001, # range tested is 0.001, 0.01, 0.005\n",
    "    'n_estimators':2000,# range tested is 1000, 2000\n",
    "    'verbosity':2\n",
    "    }\n",
    "gbm_model_full = lgb.train(params_full, train_set=dataset_full)"
   ]
  },
  {
   "cell_type": "code",
   "execution_count": 697,
   "metadata": {},
   "outputs": [
    {
     "name": "stdout",
     "output_type": "stream",
     "text": [
      "LighGBM_seiz_and_user, twitter15, 0.0001, 2000, 0.9588, 0.6351, 0.5766\n"
     ]
    }
   ],
   "source": [
    "print(f\"LighGBM_seiz_and_user, {exp_name}, {params_full['learning_rate']}, {params_full['n_estimators']}, {return_accuracy(train_full, gbm_model_full):.4f}, {return_accuracy(val_full, gbm_model_full):.4f}, {return_accuracy(test_full, gbm_model_full):.4f}\")"
   ]
  }
 ],
 "metadata": {
  "kernelspec": {
   "display_name": "Python 3",
   "language": "python",
   "name": "python3"
  },
  "language_info": {
   "codemirror_mode": {
    "name": "ipython",
    "version": 3
   },
   "file_extension": ".py",
   "mimetype": "text/x-python",
   "name": "python",
   "nbconvert_exporter": "python",
   "pygments_lexer": "ipython3",
   "version": "3.7.4"
  }
 },
 "nbformat": 4,
 "nbformat_minor": 4
}
