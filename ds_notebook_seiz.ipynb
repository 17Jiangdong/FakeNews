{
 "cells": [
  {
   "cell_type": "code",
   "execution_count": 1,
   "metadata": {},
   "outputs": [],
   "source": [
    "import pandas as pd\n",
    "import matplotlib.pyplot as plt"
   ]
  },
  {
   "cell_type": "code",
   "execution_count": 2,
   "metadata": {},
   "outputs": [],
   "source": [
    "name = 'twitter15'"
   ]
  },
  {
   "cell_type": "code",
   "execution_count": 35,
   "metadata": {},
   "outputs": [],
   "source": [
    "df_train = pd.read_csv(f'seiz_dataset_{name}.csv')\n",
    "df_val = pd.read_csv(f\"seiz_dataset_{name}_val.csv\")"
   ]
  },
  {
   "cell_type": "code",
   "execution_count": 102,
   "metadata": {},
   "outputs": [
    {
     "data": {
      "text/plain": [
       "(994, 14)"
      ]
     },
     "execution_count": 102,
     "metadata": {},
     "output_type": "execute_result"
    }
   ],
   "source": [
    "df_train.shape"
   ]
  },
  {
   "cell_type": "code",
   "execution_count": 36,
   "metadata": {},
   "outputs": [],
   "source": [
    "init_pops = ['S0', 'E0', 'I0', 'Z0']"
   ]
  },
  {
   "cell_type": "code",
   "execution_count": 37,
   "metadata": {},
   "outputs": [],
   "source": [
    "def transform_seiz_data(input_data):\n",
    "    #Computing R score\n",
    "    df = input_data.copy()\n",
    "    p = df.p.values\n",
    "    beta = df.beta.values\n",
    "    l = df.l.values\n",
    "    rho = df.rho.values\n",
    "    epsilon = df.epsilon.values\n",
    "    b = df.b.values\n",
    "    df['R'] = ((1 - p) * beta + (1 - l) * b) / (rho + epsilon)\n",
    "    # Normalizing population columns\n",
    "    df['N'] = df[init_pops].values.sum(1)\n",
    "    for col in init_pops:\n",
    "        df[col] = df[col].values / df['N'].values\n",
    "    df = df.drop(columns='N')\n",
    "    #Incubation time is relevant\n",
    "    df['incubation_time'] = 1 / df.epsilon.values\n",
    "    #Encode target as category for lightgbm\n",
    "    encoder = {\"true\":0, \"false\":1, \"non-rumor\":2, \"unverified\":3}\n",
    "    df.label = df.label.apply(lambda x: encoder[x])\n",
    "    return df"
   ]
  },
  {
   "cell_type": "code",
   "execution_count": 38,
   "metadata": {},
   "outputs": [],
   "source": [
    "df_train = transform_seiz_data(df_train)\n",
    "df_val = transform_seiz_data(df_val)"
   ]
  },
  {
   "cell_type": "markdown",
   "metadata": {},
   "source": [
    "### Experimenting with LighGbm"
   ]
  },
  {
   "cell_type": "code",
   "execution_count": 93,
   "metadata": {},
   "outputs": [],
   "source": [
    "import lightgbm as lgb\n",
    "from sklearn.metrics import f1_score, accuracy_score"
   ]
  },
  {
   "cell_type": "code",
   "execution_count": 94,
   "metadata": {},
   "outputs": [],
   "source": [
    "gbm_model = GradientBoostingModel(ntrees=1000, lr=0.01, max_d=5, feature_fraq=1.0)"
   ]
  },
  {
   "cell_type": "code",
   "execution_count": 95,
   "metadata": {},
   "outputs": [
    {
     "name": "stderr",
     "output_type": "stream",
     "text": [
      "/home/arnaud15/miniconda3/envs/snap/lib/python3.7/site-packages/lightgbm/engine.py:148: UserWarning: Found `n_estimators` in params. Will use it instead of argument\n",
      "  warnings.warn(\"Found `{}` in params. Will use it instead of argument\".format(alias))\n"
     ]
    }
   ],
   "source": [
    "dataset = lgb.Dataset(df_train.iloc[:, 1:], label=df_train.label)\n",
    "dataset.construct()\n",
    "params = {\n",
    "    'objective':'multiclass',\n",
    "    'num_class':4,\n",
    "    'bagging_freq':5,\n",
    "    'feature_fraction':1.0,\n",
    "    'boosting_type':'gbdt',\n",
    "    'max_depth':5,\n",
    "    'learning_rate':0.01,\n",
    "    'n_estimators':1000,\n",
    "    'verbosity':2\n",
    "    }\n",
    "gbm_model = lgb.train(params, train_set=dataset)"
   ]
  },
  {
   "cell_type": "code",
   "execution_count": 96,
   "metadata": {},
   "outputs": [],
   "source": [
    "preds = gbm_model.predict(df_val.iloc[:, 1:], raw_score=False).argmax(1)"
   ]
  },
  {
   "cell_type": "code",
   "execution_count": 97,
   "metadata": {},
   "outputs": [
    {
     "data": {
      "text/plain": [
       "0.4527027027027027"
      ]
     },
     "execution_count": 97,
     "metadata": {},
     "output_type": "execute_result"
    }
   ],
   "source": [
    "accuracy_score(df_val.iloc[:, 0].values, preds)"
   ]
  },
  {
   "cell_type": "code",
   "execution_count": 98,
   "metadata": {},
   "outputs": [
    {
     "data": {
      "text/plain": [
       "<matplotlib.axes._subplots.AxesSubplot at 0x7f7e3c4b0510>"
      ]
     },
     "execution_count": 98,
     "metadata": {},
     "output_type": "execute_result"
    },
    {
     "data": {
      "image/png": "[encoded data removed]",
      "text/plain": [
       "<Figure size 432x288 with 1 Axes>"
      ]
     },
     "metadata": {
      "needs_background": "light"
     },
     "output_type": "display_data"
    }
   ],
   "source": [
    "lgb.plot_importance(gbm_model)"
   ]
  },
  {
   "cell_type": "markdown",
   "metadata": {},
   "source": [
    "### Trying out a MLP"
   ]
  },
  {
   "cell_type": "code",
   "execution_count": 271,
   "metadata": {},
   "outputs": [],
   "source": [
    "import torch\n",
    "import torch.nn as nn"
   ]
  },
  {
   "cell_type": "code",
   "execution_count": 299,
   "metadata": {},
   "outputs": [],
   "source": [
    "n_hidden_layers = 3\n",
    "hidden_size = 64\n",
    "batch_size = 64\n",
    "lr = 0.0001\n",
    "dropout_prob =0.2\n",
    "n_epochs = 10000"
   ]
  },
  {
   "cell_type": "code",
   "execution_count": 300,
   "metadata": {},
   "outputs": [],
   "source": [
    "device='cuda' if torch.cuda.is_available() else 'cpu'"
   ]
  },
  {
   "cell_type": "code",
   "execution_count": 301,
   "metadata": {},
   "outputs": [],
   "source": [
    "model_seq = [nn.BatchNorm1d(num_features=13, affine=False)]\n",
    "model_seq.append(nn.Linear(in_features=13, out_features=hidden_size))\n",
    "for _ in range(n_hidden_layers):\n",
    "    model_seq.append(nn.Dropout(dropout_prob))\n",
    "    model_seq.append(nn.Linear(in_features=hidden_size, out_features=hidden_size))\n",
    "model_seq.append(nn.Linear(in_features=hidden_size, out_features=4))\n",
    "mlp = nn.Sequential(*model_seq)\n",
    "mlp = mlp.to(device)"
   ]
  },
  {
   "cell_type": "code",
   "execution_count": 302,
   "metadata": {},
   "outputs": [],
   "source": [
    "optim = torch.optim.Adam([param for name, param in mlp.named_parameters()], lr=lr)"
   ]
  },
  {
   "cell_type": "code",
   "execution_count": 303,
   "metadata": {},
   "outputs": [],
   "source": [
    "train_loader = torch.utils.data.DataLoader(df_train.values, batch_size=batch_size, shuffle=True)\n",
    "test_loader = train_loader"
   ]
  },
  {
   "cell_type": "code",
   "execution_count": 304,
   "metadata": {},
   "outputs": [
    {
     "name": "stdout",
     "output_type": "stream",
     "text": [
      "Epoch 10: Mean Loss = 1.343\n",
      "Accuracy Epoch 10: 0.356\n",
      "Epoch 20: Mean Loss = 1.324\n",
      "Accuracy Epoch 20: 0.353\n",
      "Epoch 30: Mean Loss = 1.329\n",
      "Accuracy Epoch 30: 0.350\n",
      "Epoch 40: Mean Loss = 1.325\n",
      "Accuracy Epoch 40: 0.348\n",
      "Epoch 50: Mean Loss = 1.329\n",
      "Accuracy Epoch 50: 0.353\n",
      "Epoch 60: Mean Loss = 1.331\n",
      "Accuracy Epoch 60: 0.350\n",
      "Epoch 70: Mean Loss = 1.319\n",
      "Accuracy Epoch 70: 0.352\n",
      "Epoch 80: Mean Loss = 1.328\n",
      "Accuracy Epoch 80: 0.355\n",
      "Epoch 90: Mean Loss = 1.322\n",
      "Accuracy Epoch 90: 0.349\n",
      "Epoch 100: Mean Loss = 1.324\n",
      "Accuracy Epoch 100: 0.349\n",
      "Epoch 110: Mean Loss = 1.324\n",
      "Accuracy Epoch 110: 0.349\n",
      "Epoch 120: Mean Loss = 1.318\n",
      "Accuracy Epoch 120: 0.351\n",
      "Epoch 130: Mean Loss = 1.322\n",
      "Accuracy Epoch 130: 0.349\n",
      "Epoch 140: Mean Loss = 1.321\n",
      "Accuracy Epoch 140: 0.348\n",
      "Epoch 150: Mean Loss = 1.326\n",
      "Accuracy Epoch 150: 0.351\n",
      "Epoch 160: Mean Loss = 1.320\n",
      "Accuracy Epoch 160: 0.350\n",
      "Epoch 170: Mean Loss = 1.309\n",
      "Accuracy Epoch 170: 0.358\n",
      "Epoch 180: Mean Loss = 1.322\n",
      "Accuracy Epoch 180: 0.353\n",
      "Epoch 190: Mean Loss = 1.321\n",
      "Accuracy Epoch 190: 0.359\n",
      "Epoch 200: Mean Loss = 1.321\n",
      "Accuracy Epoch 200: 0.358\n",
      "Epoch 210: Mean Loss = 1.322\n",
      "Accuracy Epoch 210: 0.355\n",
      "Epoch 220: Mean Loss = 1.320\n",
      "Accuracy Epoch 220: 0.346\n",
      "Epoch 230: Mean Loss = 1.326\n",
      "Accuracy Epoch 230: 0.355\n"
     ]
    },
    {
     "ename": "KeyboardInterrupt",
     "evalue": "",
     "output_type": "error",
     "traceback": [
      "\u001b[0;31m---------------------------------------------------------------------------\u001b[0m",
      "\u001b[0;31mKeyboardInterrupt\u001b[0m                         Traceback (most recent call last)",
      "\u001b[0;32m<ipython-input-304-9378ad28c80b>\u001b[0m in \u001b[0;36m<module>\u001b[0;34m\u001b[0m\n\u001b[1;32m      7\u001b[0m     \u001b[0;32mfor\u001b[0m \u001b[0mdp\u001b[0m \u001b[0;32min\u001b[0m \u001b[0mtrain_loader\u001b[0m\u001b[0;34m:\u001b[0m\u001b[0;34m\u001b[0m\u001b[0;34m\u001b[0m\u001b[0m\n\u001b[1;32m      8\u001b[0m         \u001b[0my\u001b[0m \u001b[0;34m=\u001b[0m \u001b[0mdp\u001b[0m\u001b[0;34m[\u001b[0m\u001b[0;34m:\u001b[0m\u001b[0;34m,\u001b[0m \u001b[0;36m0\u001b[0m\u001b[0;34m]\u001b[0m\u001b[0;34m.\u001b[0m\u001b[0mto\u001b[0m\u001b[0;34m(\u001b[0m\u001b[0mdevice\u001b[0m\u001b[0;34m)\u001b[0m\u001b[0;34m.\u001b[0m\u001b[0mlong\u001b[0m\u001b[0;34m(\u001b[0m\u001b[0;34m)\u001b[0m\u001b[0;34m\u001b[0m\u001b[0;34m\u001b[0m\u001b[0m\n\u001b[0;32m----> 9\u001b[0;31m         \u001b[0mx\u001b[0m \u001b[0;34m=\u001b[0m \u001b[0mdp\u001b[0m\u001b[0;34m[\u001b[0m\u001b[0;34m:\u001b[0m\u001b[0;34m,\u001b[0m \u001b[0;36m1\u001b[0m\u001b[0;34m:\u001b[0m\u001b[0;34m]\u001b[0m\u001b[0;34m.\u001b[0m\u001b[0mto\u001b[0m\u001b[0;34m(\u001b[0m\u001b[0mdevice\u001b[0m\u001b[0;34m)\u001b[0m\u001b[0;34m.\u001b[0m\u001b[0mfloat\u001b[0m\u001b[0;34m(\u001b[0m\u001b[0;34m)\u001b[0m\u001b[0;34m\u001b[0m\u001b[0;34m\u001b[0m\u001b[0m\n\u001b[0m\u001b[1;32m     10\u001b[0m         \u001b[0mlogits\u001b[0m \u001b[0;34m=\u001b[0m \u001b[0mmlp\u001b[0m\u001b[0;34m(\u001b[0m\u001b[0mx\u001b[0m\u001b[0;34m)\u001b[0m\u001b[0;34m\u001b[0m\u001b[0;34m\u001b[0m\u001b[0m\n\u001b[1;32m     11\u001b[0m \u001b[0;34m\u001b[0m\u001b[0m\n",
      "\u001b[0;31mKeyboardInterrupt\u001b[0m: "
     ]
    }
   ],
   "source": [
    "loss_func = nn.CrossEntropyLoss(reduction='mean')\n",
    "for epoch in range(n_epochs):\n",
    "    epoch_loss = 0.\n",
    "    \n",
    "    #TRAIN\n",
    "    mlp.train()\n",
    "    for dp in train_loader:\n",
    "        y = dp[:, 0].to(device).long()\n",
    "        x = dp[:, 1:].to(device).float()\n",
    "        logits = mlp(x)\n",
    "\n",
    "        \n",
    "        loss = loss_func(logits, y)\n",
    "        \n",
    "        optim.zero_grad()\n",
    "        loss.backward()\n",
    "        optim.step()\n",
    "        \n",
    "        epoch_loss += loss.item()\n",
    "    \n",
    "    if (epoch+1) % 10 == 0:\n",
    "        print(f\"Epoch {epoch+1}: Mean Loss = {epoch_loss/len(train_loader):.3f}\")\n",
    "        \n",
    "    \n",
    "    #EVAL\n",
    "    mlp.eval()\n",
    "    correct = 0\n",
    "    total = 0\n",
    "    with torch.no_grad():\n",
    "        for dp in test_loader:\n",
    "            y = dp[:, 0].to(device).long()\n",
    "            x = dp[:, 1:].to(device).float()\n",
    "            logits = mlp(x)\n",
    "            _, preds = logits.max(dim=1)\n",
    "            correct += float(preds.eq(y).sum().item())\n",
    "            total += y.size(0)\n",
    "    if (epoch+1) % 10 == 0:\n",
    "        print(f\"Accuracy Epoch {epoch+1}: {correct/total:.3f}\")"
   ]
  },
  {
   "cell_type": "code",
   "execution_count": null,
   "metadata": {},
   "outputs": [],
   "source": []
  },
  {
   "cell_type": "code",
   "execution_count": null,
   "metadata": {},
   "outputs": [],
   "source": []
  }
 ],
 "metadata": {
  "kernelspec": {
   "display_name": "Python 3",
   "language": "python",
   "name": "python3"
  },
  "language_info": {
   "codemirror_mode": {
    "name": "ipython",
    "version": 3
   },
   "file_extension": ".py",
   "mimetype": "text/x-python",
   "name": "python",
   "nbconvert_exporter": "python",
   "pygments_lexer": "ipython3",
   "version": "3.7.4"
  }
 },
 "nbformat": 4,
 "nbformat_minor": 4
}
