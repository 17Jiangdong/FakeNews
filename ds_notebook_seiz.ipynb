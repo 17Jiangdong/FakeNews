{
 "cells": [
  {
   "cell_type": "code",
   "execution_count": 1,
   "metadata": {},
   "outputs": [],
   "source": [
    "import pandas as pd\n",
    "import matplotlib.pyplot as plt"
   ]
  },
  {
   "cell_type": "code",
   "execution_count": 2,
   "metadata": {},
   "outputs": [],
   "source": [
    "name = 'twitter15'"
   ]
  },
  {
   "cell_type": "code",
   "execution_count": 35,
   "metadata": {},
   "outputs": [],
   "source": [
    "df_train = pd.read_csv(f'seiz_dataset_{name}.csv')\n",
    "df_val = pd.read_csv(f\"seiz_dataset_{name}_val.csv\")"
   ]
  },
  {
   "cell_type": "code",
   "execution_count": 102,
   "metadata": {},
   "outputs": [
    {
     "data": {
      "text/plain": [
       "(994, 14)"
      ]
     },
     "execution_count": 102,
     "metadata": {},
     "output_type": "execute_result"
    }
   ],
   "source": [
    "df_train.shape"
   ]
  },
  {
   "cell_type": "code",
   "execution_count": 36,
   "metadata": {},
   "outputs": [],
   "source": [
    "init_pops = ['S0', 'E0', 'I0', 'Z0']"
   ]
  },
  {
   "cell_type": "code",
   "execution_count": 37,
   "metadata": {},
   "outputs": [],
   "source": [
    "def transform_seiz_data(input_data):\n",
    "    #Computing R score\n",
    "    df = input_data.copy()\n",
    "    p = df.p.values\n",
    "    beta = df.beta.values\n",
    "    l = df.l.values\n",
    "    rho = df.rho.values\n",
    "    epsilon = df.epsilon.values\n",
    "    b = df.b.values\n",
    "    df['R'] = ((1 - p) * beta + (1 - l) * b) / (rho + epsilon)\n",
    "    # Normalizing population columns\n",
    "    df['N'] = df[init_pops].values.sum(1)\n",
    "    for col in init_pops:\n",
    "        df[col] = df[col].values / df['N'].values\n",
    "    df = df.drop(columns='N')\n",
    "    #Incubation time is relevant\n",
    "    df['incubation_time'] = 1 / df.epsilon.values\n",
    "    #Encode target as category for lightgbm\n",
    "    encoder = {\"true\":0, \"false\":1, \"non-rumor\":2, \"unverified\":3}\n",
    "    df.label = df.label.apply(lambda x: encoder[x])\n",
    "    return df"
   ]
  },
  {
   "cell_type": "code",
   "execution_count": 38,
   "metadata": {},
   "outputs": [],
   "source": [
    "df_train = transform_seiz_data(df_train)\n",
    "df_val = transform_seiz_data(df_val)"
   ]
  },
  {
   "cell_type": "markdown",
   "metadata": {},
   "source": [
    "### Experimenting with LighGbm"
   ]
  },
  {
   "cell_type": "code",
   "execution_count": 93,
   "metadata": {},
   "outputs": [],
   "source": [
    "import lightgbm as lgb\n",
    "from sklearn.metrics import f1_score, accuracy_score"
   ]
  },
  {
   "cell_type": "code",
   "execution_count": 94,
   "metadata": {},
   "outputs": [],
   "source": [
    "gbm_model = GradientBoostingModel(ntrees=1000, lr=0.01, max_d=5, feature_fraq=1.0)\n",
    "\n",
    "dataset = lgb.Dataset(df_train.iloc[:, 1:], label=df_train.label)\n",
    "dataset.construct()\n",
    "params = {\n",
    "    'objective':'multiclass',\n",
    "    'num_class':4,\n",
    "    'bagging_freq':5,\n",
    "    'feature_fraction':1.0,\n",
    "    'boosting_type':'gbdt',\n",
    "    'max_depth':5,\n",
    "    'learning_rate':0.01,\n",
    "    'n_estimators':1000,\n",
    "    'verbosity':2\n",
    "    }\n",
    "gbm_model = lgb.train(params, train_set=dataset)\n",
    "\n",
    "preds = gbm_model.predict(df_val.iloc[:, 1:], raw_score=False).argmax(1)\n",
    "\n",
    "accuracy_score(df_val.iloc[:, 0].values, preds)\n",
    "\n",
    "lgb.plot_importance(gbm_model)"
   ]
  },
  {
   "cell_type": "markdown",
   "metadata": {},
   "source": [
    "### Trying out a MLP"
   ]
  },
  {
   "cell_type": "code",
   "execution_count": 271,
   "metadata": {},
   "outputs": [],
   "source": [
    "import torch\n",
    "import torch.nn as nn"
   ]
  },
  {
   "cell_type": "code",
   "execution_count": null,
   "metadata": {},
   "outputs": [],
   "source": [
    "n_hidden_layers = 3\n",
    "hidden_size = 64\n",
    "batch_size = 64\n",
    "lr = 0.0001\n",
    "dropout_prob =0.2\n",
    "n_epochs = 10000\n",
    "\n",
    "device='cuda' if torch.cuda.is_available() else 'cpu'\n",
    "\n",
    "model_seq = [nn.BatchNorm1d(num_features=13, affine=False)]\n",
    "model_seq.append(nn.Linear(in_features=13, out_features=hidden_size))\n",
    "for _ in range(n_hidden_layers):\n",
    "    model_seq.append(nn.Dropout(dropout_prob))\n",
    "    model_seq.append(nn.Linear(in_features=hidden_size, out_features=hidden_size))\n",
    "model_seq.append(nn.Linear(in_features=hidden_size, out_features=4))\n",
    "mlp = nn.Sequential(*model_seq)\n",
    "mlp = mlp.to(device)\n",
    "\n",
    "optim = torch.optim.Adam([param for name, param in mlp.named_parameters()], lr=lr)\n",
    "\n",
    "train_loader = torch.utils.data.DataLoader(df_train.values, batch_size=batch_size, shuffle=True)\n",
    "test_loader = train_loader\n",
    "\n",
    "loss_func = nn.CrossEntropyLoss(reduction='mean')\n",
    "for epoch in range(n_epochs):\n",
    "    epoch_loss = 0.\n",
    "    \n",
    "    #TRAIN\n",
    "    mlp.train()\n",
    "    for dp in train_loader:\n",
    "        y = dp[:, 0].to(device).long()\n",
    "        x = dp[:, 1:].to(device).float()\n",
    "        logits = mlp(x)\n",
    "\n",
    "        \n",
    "        loss = loss_func(logits, y)\n",
    "        \n",
    "        optim.zero_grad()\n",
    "        loss.backward()\n",
    "        optim.step()\n",
    "        \n",
    "        epoch_loss += loss.item()\n",
    "    \n",
    "    if (epoch+1) % 10 == 0:\n",
    "        print(f\"Epoch {epoch+1}: Mean Loss = {epoch_loss/len(train_loader):.3f}\")\n",
    "        \n",
    "    \n",
    "    #EVAL\n",
    "    mlp.eval()\n",
    "    correct = 0\n",
    "    total = 0\n",
    "    with torch.no_grad():\n",
    "        for dp in test_loader:\n",
    "            y = dp[:, 0].to(device).long()\n",
    "            x = dp[:, 1:].to(device).float()\n",
    "            logits = mlp(x)\n",
    "            _, preds = logits.max(dim=1)\n",
    "            correct += float(preds.eq(y).sum().item())\n",
    "            total += y.size(0)\n",
    "    if (epoch+1) % 10 == 0:\n",
    "        print(f\"Accuracy Epoch {epoch+1}: {correct/total:.3f}\")"
   ]
  },
  {
   "cell_type": "code",
   "execution_count": null,
   "metadata": {},
   "outputs": [],
   "source": []
  },
  {
   "cell_type": "code",
   "execution_count": null,
   "metadata": {},
   "outputs": [],
   "source": []
  }
 ],
 "metadata": {
  "kernelspec": {
   "display_name": "Python 3",
   "language": "python",
   "name": "python3"
  },
  "language_info": {
   "codemirror_mode": {
    "name": "ipython",
    "version": 3
   },
   "file_extension": ".py",
   "mimetype": "text/x-python",
   "name": "python",
   "nbconvert_exporter": "python",
   "pygments_lexer": "ipython3",
   "version": "3.7.4"
  }
 },
 "nbformat": 4,
 "nbformat_minor": 4
}
